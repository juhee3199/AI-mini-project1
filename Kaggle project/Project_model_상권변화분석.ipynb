{
  "nbformat": 4,
  "nbformat_minor": 0,
  "metadata": {
    "colab": {
      "name": "Project_상권변화분석.ipynb",
      "provenance": [],
      "collapsed_sections": []
    },
    "kernelspec": {
      "name": "python3",
      "display_name": "Python 3"
    }
  },
  "cells": [
    {
      "cell_type": "code",
      "metadata": {
        "id": "foTduHPN3NCG",
        "outputId": "d87733b9-c320-4bcc-d6af-44897e04947e",
        "colab": {
          "base_uri": "https://localhost:8080/",
          "height": 577
        }
      },
      "source": [
        "!pip uninstall -y kaggle\n",
        "!pip install --upgrade pip\n",
        "!pip install kaggle==1.5.6"
      ],
      "execution_count": null,
      "outputs": [
        {
          "output_type": "stream",
          "text": [
            "Uninstalling kaggle-1.5.6:\n",
            "  Successfully uninstalled kaggle-1.5.6\n",
            "Collecting pip\n",
            "\u001b[?25l  Downloading https://files.pythonhosted.org/packages/43/84/23ed6a1796480a6f1a2d38f2802901d078266bda38388954d01d3f2e821d/pip-20.1.1-py2.py3-none-any.whl (1.5MB)\n",
            "\u001b[K     |████████████████████████████████| 1.5MB 4.7MB/s \n",
            "\u001b[?25hInstalling collected packages: pip\n",
            "  Found existing installation: pip 19.3.1\n",
            "    Uninstalling pip-19.3.1:\n",
            "      Successfully uninstalled pip-19.3.1\n",
            "Successfully installed pip-20.1.1\n",
            "Collecting kaggle==1.5.6\n",
            "  Downloading kaggle-1.5.6.tar.gz (58 kB)\n",
            "\u001b[K     |████████████████████████████████| 58 kB 2.5 MB/s \n",
            "\u001b[?25hRequirement already satisfied: urllib3<1.25,>=1.21.1 in /usr/local/lib/python3.6/dist-packages (from kaggle==1.5.6) (1.24.3)\n",
            "Requirement already satisfied: six>=1.10 in /usr/local/lib/python3.6/dist-packages (from kaggle==1.5.6) (1.12.0)\n",
            "Requirement already satisfied: certifi in /usr/local/lib/python3.6/dist-packages (from kaggle==1.5.6) (2020.4.5.2)\n",
            "Requirement already satisfied: python-dateutil in /usr/local/lib/python3.6/dist-packages (from kaggle==1.5.6) (2.8.1)\n",
            "Requirement already satisfied: requests in /usr/local/lib/python3.6/dist-packages (from kaggle==1.5.6) (2.23.0)\n",
            "Requirement already satisfied: tqdm in /usr/local/lib/python3.6/dist-packages (from kaggle==1.5.6) (4.41.1)\n",
            "Requirement already satisfied: python-slugify in /usr/local/lib/python3.6/dist-packages (from kaggle==1.5.6) (4.0.0)\n",
            "Requirement already satisfied: idna<3,>=2.5 in /usr/local/lib/python3.6/dist-packages (from requests->kaggle==1.5.6) (2.9)\n",
            "Requirement already satisfied: chardet<4,>=3.0.2 in /usr/local/lib/python3.6/dist-packages (from requests->kaggle==1.5.6) (3.0.4)\n",
            "Requirement already satisfied: text-unidecode>=1.3 in /usr/local/lib/python3.6/dist-packages (from python-slugify->kaggle==1.5.6) (1.3)\n",
            "Building wheels for collected packages: kaggle\n",
            "  Building wheel for kaggle (setup.py) ... \u001b[?25l\u001b[?25hdone\n",
            "  Created wheel for kaggle: filename=kaggle-1.5.6-py3-none-any.whl size=72859 sha256=294c54a39ea978b118ed5742a127f8fe3dd045206d7d5d04ab15edaa5b67f6d4\n",
            "  Stored in directory: /root/.cache/pip/wheels/01/3e/ff/77407ebac3ef71a79b9166a8382aecf88415a0bcbe3c095a01\n",
            "Successfully built kaggle\n",
            "Installing collected packages: kaggle\n",
            "Successfully installed kaggle-1.5.6\n"
          ],
          "name": "stdout"
        }
      ]
    },
    {
      "cell_type": "code",
      "metadata": {
        "id": "pNMq_8v13aIr",
        "outputId": "f750b74e-e1c4-4eda-8e53-c5ae42199ab0",
        "colab": {
          "base_uri": "https://localhost:8080/",
          "height": 35
        }
      },
      "source": [
        "!mkdir -p ~/.kaggle\n",
        "!cp kaggle.json ~/.kaggle/\n",
        "! chmod 600 ~/.kaggle/kaggle.json\n",
        "!kaggle -v"
      ],
      "execution_count": null,
      "outputs": [
        {
          "output_type": "stream",
          "text": [
            "Kaggle API 1.5.6\n"
          ],
          "name": "stdout"
        }
      ]
    },
    {
      "cell_type": "code",
      "metadata": {
        "id": "8uD9cqAN3qVO",
        "outputId": "e0c1795e-6c89-4c07-efe5-70c591f8926d",
        "colab": {
          "base_uri": "https://localhost:8080/",
          "height": 143
        }
      },
      "source": [
        "!kaggle competitions download -c city-commercialchange-analysis\n",
        "\n",
        "!unzip city-commercialchange-analysis.zip"
      ],
      "execution_count": null,
      "outputs": [
        {
          "output_type": "stream",
          "text": [
            "Downloading city-commercialchange-analysis.zip to /content\n",
            "\r  0% 0.00/7.99k [00:00<?, ?B/s]\n",
            "\r100% 7.99k/7.99k [00:00<00:00, 8.14MB/s]\n",
            "Archive:  city-commercialchange-analysis.zip\n",
            "  inflating: submit.csv              \n",
            "  inflating: test.csv                \n",
            "  inflating: train.csv               \n"
          ],
          "name": "stdout"
        }
      ]
    },
    {
      "cell_type": "code",
      "metadata": {
        "id": "fK_k8F5LAnK9"
      },
      "source": [
        "import torch\n",
        "import torchvision.datasets as data\n",
        "import torchvision.transforms as transforms\n",
        "import random"
      ],
      "execution_count": null,
      "outputs": []
    },
    {
      "cell_type": "code",
      "metadata": {
        "id": "fkadVVLt3_45",
        "outputId": "b9b62777-b6bf-424b-9a72-bd561a73bdb8",
        "colab": {
          "base_uri": "https://localhost:8080/",
          "height": 436
        }
      },
      "source": [
        "import numpy as np\n",
        "import torch\n",
        "import torch.optim as optim\n",
        "import pandas as pd\n",
        "\n",
        "xy=pd.read_csv('train.csv')\n",
        "xy"
      ],
      "execution_count": null,
      "outputs": [
        {
          "output_type": "execute_result",
          "data": {
            "text/html": [
              "<div>\n",
              "<style scoped>\n",
              "    .dataframe tbody tr th:only-of-type {\n",
              "        vertical-align: middle;\n",
              "    }\n",
              "\n",
              "    .dataframe tbody tr th {\n",
              "        vertical-align: top;\n",
              "    }\n",
              "\n",
              "    .dataframe thead th {\n",
              "        text-align: right;\n",
              "    }\n",
              "</style>\n",
              "<table border=\"1\" class=\"dataframe\">\n",
              "  <thead>\n",
              "    <tr style=\"text-align: right;\">\n",
              "      <th></th>\n",
              "      <th>year</th>\n",
              "      <th>quarter</th>\n",
              "      <th>city</th>\n",
              "      <th>Operating months</th>\n",
              "      <th>Closing months</th>\n",
              "      <th>Operating months_Average</th>\n",
              "      <th>Closing months_Average</th>\n",
              "      <th>Commercial change</th>\n",
              "    </tr>\n",
              "  </thead>\n",
              "  <tbody>\n",
              "    <tr>\n",
              "      <th>0</th>\n",
              "      <td>2016</td>\n",
              "      <td>1</td>\n",
              "      <td>11290</td>\n",
              "      <td>99</td>\n",
              "      <td>51</td>\n",
              "      <td>1.031250</td>\n",
              "      <td>1.062500</td>\n",
              "      <td>0</td>\n",
              "    </tr>\n",
              "    <tr>\n",
              "      <th>1</th>\n",
              "      <td>2019</td>\n",
              "      <td>4</td>\n",
              "      <td>11290</td>\n",
              "      <td>111</td>\n",
              "      <td>56</td>\n",
              "      <td>1.009091</td>\n",
              "      <td>1.037037</td>\n",
              "      <td>0</td>\n",
              "    </tr>\n",
              "    <tr>\n",
              "      <th>2</th>\n",
              "      <td>2015</td>\n",
              "      <td>4</td>\n",
              "      <td>11380</td>\n",
              "      <td>92</td>\n",
              "      <td>48</td>\n",
              "      <td>0.968421</td>\n",
              "      <td>1.000000</td>\n",
              "      <td>2</td>\n",
              "    </tr>\n",
              "    <tr>\n",
              "      <th>3</th>\n",
              "      <td>2019</td>\n",
              "      <td>4</td>\n",
              "      <td>11200</td>\n",
              "      <td>105</td>\n",
              "      <td>57</td>\n",
              "      <td>0.954545</td>\n",
              "      <td>1.055556</td>\n",
              "      <td>2</td>\n",
              "    </tr>\n",
              "    <tr>\n",
              "      <th>4</th>\n",
              "      <td>2014</td>\n",
              "      <td>2</td>\n",
              "      <td>11260</td>\n",
              "      <td>91</td>\n",
              "      <td>42</td>\n",
              "      <td>0.989130</td>\n",
              "      <td>0.933333</td>\n",
              "      <td>3</td>\n",
              "    </tr>\n",
              "    <tr>\n",
              "      <th>...</th>\n",
              "      <td>...</td>\n",
              "      <td>...</td>\n",
              "      <td>...</td>\n",
              "      <td>...</td>\n",
              "      <td>...</td>\n",
              "      <td>...</td>\n",
              "      <td>...</td>\n",
              "      <td>...</td>\n",
              "    </tr>\n",
              "    <tr>\n",
              "      <th>546</th>\n",
              "      <td>2017</td>\n",
              "      <td>2</td>\n",
              "      <td>11350</td>\n",
              "      <td>91</td>\n",
              "      <td>48</td>\n",
              "      <td>0.938144</td>\n",
              "      <td>0.960000</td>\n",
              "      <td>3</td>\n",
              "    </tr>\n",
              "    <tr>\n",
              "      <th>547</th>\n",
              "      <td>2019</td>\n",
              "      <td>4</td>\n",
              "      <td>11500</td>\n",
              "      <td>94</td>\n",
              "      <td>50</td>\n",
              "      <td>0.854545</td>\n",
              "      <td>0.925926</td>\n",
              "      <td>3</td>\n",
              "    </tr>\n",
              "    <tr>\n",
              "      <th>548</th>\n",
              "      <td>2016</td>\n",
              "      <td>3</td>\n",
              "      <td>11200</td>\n",
              "      <td>95</td>\n",
              "      <td>51</td>\n",
              "      <td>0.989583</td>\n",
              "      <td>1.040816</td>\n",
              "      <td>2</td>\n",
              "    </tr>\n",
              "    <tr>\n",
              "      <th>549</th>\n",
              "      <td>2018</td>\n",
              "      <td>1</td>\n",
              "      <td>11620</td>\n",
              "      <td>99</td>\n",
              "      <td>50</td>\n",
              "      <td>0.990000</td>\n",
              "      <td>1.000000</td>\n",
              "      <td>3</td>\n",
              "    </tr>\n",
              "    <tr>\n",
              "      <th>550</th>\n",
              "      <td>2014</td>\n",
              "      <td>3</td>\n",
              "      <td>11200</td>\n",
              "      <td>94</td>\n",
              "      <td>47</td>\n",
              "      <td>1.010753</td>\n",
              "      <td>1.044444</td>\n",
              "      <td>0</td>\n",
              "    </tr>\n",
              "  </tbody>\n",
              "</table>\n",
              "<p>551 rows × 8 columns</p>\n",
              "</div>"
            ],
            "text/plain": [
              "     year  quarter  ...  Closing months_Average  Commercial change\n",
              "0    2016        1  ...                1.062500                  0\n",
              "1    2019        4  ...                1.037037                  0\n",
              "2    2015        4  ...                1.000000                  2\n",
              "3    2019        4  ...                1.055556                  2\n",
              "4    2014        2  ...                0.933333                  3\n",
              "..    ...      ...  ...                     ...                ...\n",
              "546  2017        2  ...                0.960000                  3\n",
              "547  2019        4  ...                0.925926                  3\n",
              "548  2016        3  ...                1.040816                  2\n",
              "549  2018        1  ...                1.000000                  3\n",
              "550  2014        3  ...                1.044444                  0\n",
              "\n",
              "[551 rows x 8 columns]"
            ]
          },
          "metadata": {
            "tags": []
          },
          "execution_count": 5
        }
      ]
    },
    {
      "cell_type": "code",
      "metadata": {
        "id": "S8vT5wIjVqxx",
        "outputId": "07ec5b0b-8f34-4b93-e4a5-89098fb4610a",
        "colab": {
          "base_uri": "https://localhost:8080/",
          "height": 402
        }
      },
      "source": [
        "corr=xy.corr(method='pearson')\n",
        "corr"
      ],
      "execution_count": null,
      "outputs": [
        {
          "output_type": "execute_result",
          "data": {
            "text/html": [
              "<div>\n",
              "<style scoped>\n",
              "    .dataframe tbody tr th:only-of-type {\n",
              "        vertical-align: middle;\n",
              "    }\n",
              "\n",
              "    .dataframe tbody tr th {\n",
              "        vertical-align: top;\n",
              "    }\n",
              "\n",
              "    .dataframe thead th {\n",
              "        text-align: right;\n",
              "    }\n",
              "</style>\n",
              "<table border=\"1\" class=\"dataframe\">\n",
              "  <thead>\n",
              "    <tr style=\"text-align: right;\">\n",
              "      <th></th>\n",
              "      <th>year</th>\n",
              "      <th>quarter</th>\n",
              "      <th>city</th>\n",
              "      <th>Operating months</th>\n",
              "      <th>Closing months</th>\n",
              "      <th>Operating months_Average</th>\n",
              "      <th>Closing months_Average</th>\n",
              "      <th>Commercial change</th>\n",
              "    </tr>\n",
              "  </thead>\n",
              "  <tbody>\n",
              "    <tr>\n",
              "      <th>year</th>\n",
              "      <td>1.000000</td>\n",
              "      <td>-0.011769</td>\n",
              "      <td>0.012068</td>\n",
              "      <td>0.467735</td>\n",
              "      <td>0.685062</td>\n",
              "      <td>-0.018703</td>\n",
              "      <td>-0.024846</td>\n",
              "      <td>-0.010037</td>\n",
              "    </tr>\n",
              "    <tr>\n",
              "      <th>quarter</th>\n",
              "      <td>-0.011769</td>\n",
              "      <td>1.000000</td>\n",
              "      <td>0.006998</td>\n",
              "      <td>0.070415</td>\n",
              "      <td>0.098112</td>\n",
              "      <td>0.020046</td>\n",
              "      <td>-0.024104</td>\n",
              "      <td>-0.005533</td>\n",
              "    </tr>\n",
              "    <tr>\n",
              "      <th>city</th>\n",
              "      <td>0.012068</td>\n",
              "      <td>0.006998</td>\n",
              "      <td>1.000000</td>\n",
              "      <td>-0.416362</td>\n",
              "      <td>-0.401390</td>\n",
              "      <td>-0.490152</td>\n",
              "      <td>-0.573218</td>\n",
              "      <td>0.387811</td>\n",
              "    </tr>\n",
              "    <tr>\n",
              "      <th>Operating months</th>\n",
              "      <td>0.467735</td>\n",
              "      <td>0.070415</td>\n",
              "      <td>-0.416362</td>\n",
              "      <td>1.000000</td>\n",
              "      <td>0.842963</td>\n",
              "      <td>0.850369</td>\n",
              "      <td>0.699022</td>\n",
              "      <td>-0.712853</td>\n",
              "    </tr>\n",
              "    <tr>\n",
              "      <th>Closing months</th>\n",
              "      <td>0.685062</td>\n",
              "      <td>0.098112</td>\n",
              "      <td>-0.401390</td>\n",
              "      <td>0.842963</td>\n",
              "      <td>1.000000</td>\n",
              "      <td>0.575777</td>\n",
              "      <td>0.687939</td>\n",
              "      <td>-0.575557</td>\n",
              "    </tr>\n",
              "    <tr>\n",
              "      <th>Operating months_Average</th>\n",
              "      <td>-0.018703</td>\n",
              "      <td>0.020046</td>\n",
              "      <td>-0.490152</td>\n",
              "      <td>0.850369</td>\n",
              "      <td>0.575777</td>\n",
              "      <td>1.000000</td>\n",
              "      <td>0.828461</td>\n",
              "      <td>-0.814984</td>\n",
              "    </tr>\n",
              "    <tr>\n",
              "      <th>Closing months_Average</th>\n",
              "      <td>-0.024846</td>\n",
              "      <td>-0.024104</td>\n",
              "      <td>-0.573218</td>\n",
              "      <td>0.699022</td>\n",
              "      <td>0.687939</td>\n",
              "      <td>0.828461</td>\n",
              "      <td>1.000000</td>\n",
              "      <td>-0.801290</td>\n",
              "    </tr>\n",
              "    <tr>\n",
              "      <th>Commercial change</th>\n",
              "      <td>-0.010037</td>\n",
              "      <td>-0.005533</td>\n",
              "      <td>0.387811</td>\n",
              "      <td>-0.712853</td>\n",
              "      <td>-0.575557</td>\n",
              "      <td>-0.814984</td>\n",
              "      <td>-0.801290</td>\n",
              "      <td>1.000000</td>\n",
              "    </tr>\n",
              "  </tbody>\n",
              "</table>\n",
              "</div>"
            ],
            "text/plain": [
              "                              year  ...  Commercial change\n",
              "year                      1.000000  ...          -0.010037\n",
              "quarter                  -0.011769  ...          -0.005533\n",
              "city                      0.012068  ...           0.387811\n",
              "Operating months          0.467735  ...          -0.712853\n",
              "Closing months            0.685062  ...          -0.575557\n",
              "Operating months_Average -0.018703  ...          -0.814984\n",
              "Closing months_Average   -0.024846  ...          -0.801290\n",
              "Commercial change        -0.010037  ...           1.000000\n",
              "\n",
              "[8 rows x 8 columns]"
            ]
          },
          "metadata": {
            "tags": []
          },
          "execution_count": 6
        }
      ]
    },
    {
      "cell_type": "code",
      "metadata": {
        "id": "cEZ0u1Kt37zg",
        "outputId": "ca77e61a-9323-4ef6-d9a1-c78c677e6a53",
        "colab": {
          "base_uri": "https://localhost:8080/",
          "height": 436
        }
      },
      "source": [
        "x_data=xy.iloc[:,0:7]    #0~7 col\n",
        "y_data=xy.iloc[:,7]\n",
        "\n",
        "x_data"
      ],
      "execution_count": null,
      "outputs": [
        {
          "output_type": "execute_result",
          "data": {
            "text/html": [
              "<div>\n",
              "<style scoped>\n",
              "    .dataframe tbody tr th:only-of-type {\n",
              "        vertical-align: middle;\n",
              "    }\n",
              "\n",
              "    .dataframe tbody tr th {\n",
              "        vertical-align: top;\n",
              "    }\n",
              "\n",
              "    .dataframe thead th {\n",
              "        text-align: right;\n",
              "    }\n",
              "</style>\n",
              "<table border=\"1\" class=\"dataframe\">\n",
              "  <thead>\n",
              "    <tr style=\"text-align: right;\">\n",
              "      <th></th>\n",
              "      <th>year</th>\n",
              "      <th>quarter</th>\n",
              "      <th>city</th>\n",
              "      <th>Operating months</th>\n",
              "      <th>Closing months</th>\n",
              "      <th>Operating months_Average</th>\n",
              "      <th>Closing months_Average</th>\n",
              "    </tr>\n",
              "  </thead>\n",
              "  <tbody>\n",
              "    <tr>\n",
              "      <th>0</th>\n",
              "      <td>2016</td>\n",
              "      <td>1</td>\n",
              "      <td>11290</td>\n",
              "      <td>99</td>\n",
              "      <td>51</td>\n",
              "      <td>1.031250</td>\n",
              "      <td>1.062500</td>\n",
              "    </tr>\n",
              "    <tr>\n",
              "      <th>1</th>\n",
              "      <td>2019</td>\n",
              "      <td>4</td>\n",
              "      <td>11290</td>\n",
              "      <td>111</td>\n",
              "      <td>56</td>\n",
              "      <td>1.009091</td>\n",
              "      <td>1.037037</td>\n",
              "    </tr>\n",
              "    <tr>\n",
              "      <th>2</th>\n",
              "      <td>2015</td>\n",
              "      <td>4</td>\n",
              "      <td>11380</td>\n",
              "      <td>92</td>\n",
              "      <td>48</td>\n",
              "      <td>0.968421</td>\n",
              "      <td>1.000000</td>\n",
              "    </tr>\n",
              "    <tr>\n",
              "      <th>3</th>\n",
              "      <td>2019</td>\n",
              "      <td>4</td>\n",
              "      <td>11200</td>\n",
              "      <td>105</td>\n",
              "      <td>57</td>\n",
              "      <td>0.954545</td>\n",
              "      <td>1.055556</td>\n",
              "    </tr>\n",
              "    <tr>\n",
              "      <th>4</th>\n",
              "      <td>2014</td>\n",
              "      <td>2</td>\n",
              "      <td>11260</td>\n",
              "      <td>91</td>\n",
              "      <td>42</td>\n",
              "      <td>0.989130</td>\n",
              "      <td>0.933333</td>\n",
              "    </tr>\n",
              "    <tr>\n",
              "      <th>...</th>\n",
              "      <td>...</td>\n",
              "      <td>...</td>\n",
              "      <td>...</td>\n",
              "      <td>...</td>\n",
              "      <td>...</td>\n",
              "      <td>...</td>\n",
              "      <td>...</td>\n",
              "    </tr>\n",
              "    <tr>\n",
              "      <th>546</th>\n",
              "      <td>2017</td>\n",
              "      <td>2</td>\n",
              "      <td>11350</td>\n",
              "      <td>91</td>\n",
              "      <td>48</td>\n",
              "      <td>0.938144</td>\n",
              "      <td>0.960000</td>\n",
              "    </tr>\n",
              "    <tr>\n",
              "      <th>547</th>\n",
              "      <td>2019</td>\n",
              "      <td>4</td>\n",
              "      <td>11500</td>\n",
              "      <td>94</td>\n",
              "      <td>50</td>\n",
              "      <td>0.854545</td>\n",
              "      <td>0.925926</td>\n",
              "    </tr>\n",
              "    <tr>\n",
              "      <th>548</th>\n",
              "      <td>2016</td>\n",
              "      <td>3</td>\n",
              "      <td>11200</td>\n",
              "      <td>95</td>\n",
              "      <td>51</td>\n",
              "      <td>0.989583</td>\n",
              "      <td>1.040816</td>\n",
              "    </tr>\n",
              "    <tr>\n",
              "      <th>549</th>\n",
              "      <td>2018</td>\n",
              "      <td>1</td>\n",
              "      <td>11620</td>\n",
              "      <td>99</td>\n",
              "      <td>50</td>\n",
              "      <td>0.990000</td>\n",
              "      <td>1.000000</td>\n",
              "    </tr>\n",
              "    <tr>\n",
              "      <th>550</th>\n",
              "      <td>2014</td>\n",
              "      <td>3</td>\n",
              "      <td>11200</td>\n",
              "      <td>94</td>\n",
              "      <td>47</td>\n",
              "      <td>1.010753</td>\n",
              "      <td>1.044444</td>\n",
              "    </tr>\n",
              "  </tbody>\n",
              "</table>\n",
              "<p>551 rows × 7 columns</p>\n",
              "</div>"
            ],
            "text/plain": [
              "     year  quarter  ...  Operating months_Average  Closing months_Average\n",
              "0    2016        1  ...                  1.031250                1.062500\n",
              "1    2019        4  ...                  1.009091                1.037037\n",
              "2    2015        4  ...                  0.968421                1.000000\n",
              "3    2019        4  ...                  0.954545                1.055556\n",
              "4    2014        2  ...                  0.989130                0.933333\n",
              "..    ...      ...  ...                       ...                     ...\n",
              "546  2017        2  ...                  0.938144                0.960000\n",
              "547  2019        4  ...                  0.854545                0.925926\n",
              "548  2016        3  ...                  0.989583                1.040816\n",
              "549  2018        1  ...                  0.990000                1.000000\n",
              "550  2014        3  ...                  1.010753                1.044444\n",
              "\n",
              "[551 rows x 7 columns]"
            ]
          },
          "metadata": {
            "tags": []
          },
          "execution_count": 7
        }
      ]
    },
    {
      "cell_type": "code",
      "metadata": {
        "id": "0G_fNpEa44VT",
        "outputId": "c450c791-ec5e-41ee-f515-e57793398870",
        "colab": {
          "base_uri": "https://localhost:8080/",
          "height": 233
        }
      },
      "source": [
        "y_data"
      ],
      "execution_count": null,
      "outputs": [
        {
          "output_type": "execute_result",
          "data": {
            "text/plain": [
              "0      0\n",
              "1      0\n",
              "2      2\n",
              "3      2\n",
              "4      3\n",
              "      ..\n",
              "546    3\n",
              "547    3\n",
              "548    2\n",
              "549    3\n",
              "550    0\n",
              "Name: Commercial change, Length: 551, dtype: int64"
            ]
          },
          "metadata": {
            "tags": []
          },
          "execution_count": 8
        }
      ]
    },
    {
      "cell_type": "code",
      "metadata": {
        "id": "md8guPCx5I3q",
        "outputId": "7ec5647a-6827-4ffb-d3d5-f247279d159a",
        "colab": {
          "base_uri": "https://localhost:8080/",
          "height": 197
        }
      },
      "source": [
        "x_train=np.array(x_data)\n",
        "y_train=np.array(y_data)\n",
        "\n",
        "x_train=torch.FloatTensor(x_train)\n",
        "y_train=torch.LongTensor(y_train)\n",
        "\n",
        "x_train[:5]"
      ],
      "execution_count": null,
      "outputs": [
        {
          "output_type": "execute_result",
          "data": {
            "text/plain": [
              "tensor([[2.0160e+03, 1.0000e+00, 1.1290e+04, 9.9000e+01, 5.1000e+01, 1.0312e+00,\n",
              "         1.0625e+00],\n",
              "        [2.0190e+03, 4.0000e+00, 1.1290e+04, 1.1100e+02, 5.6000e+01, 1.0091e+00,\n",
              "         1.0370e+00],\n",
              "        [2.0150e+03, 4.0000e+00, 1.1380e+04, 9.2000e+01, 4.8000e+01, 9.6842e-01,\n",
              "         1.0000e+00],\n",
              "        [2.0190e+03, 4.0000e+00, 1.1200e+04, 1.0500e+02, 5.7000e+01, 9.5455e-01,\n",
              "         1.0556e+00],\n",
              "        [2.0140e+03, 2.0000e+00, 1.1260e+04, 9.1000e+01, 4.2000e+01, 9.8913e-01,\n",
              "         9.3333e-01]])"
            ]
          },
          "metadata": {
            "tags": []
          },
          "execution_count": 9
        }
      ]
    },
    {
      "cell_type": "code",
      "metadata": {
        "id": "f5hUqYmC6U1F",
        "outputId": "20ee6e4e-c301-4a30-b2da-656314bad019",
        "colab": {
          "base_uri": "https://localhost:8080/",
          "height": 35
        }
      },
      "source": [
        "x_train.shape"
      ],
      "execution_count": null,
      "outputs": [
        {
          "output_type": "execute_result",
          "data": {
            "text/plain": [
              "torch.Size([551, 7])"
            ]
          },
          "metadata": {
            "tags": []
          },
          "execution_count": 10
        }
      ]
    },
    {
      "cell_type": "code",
      "metadata": {
        "id": "rHjQttKM7hFz",
        "outputId": "0bc6ef0c-246c-4eac-ad08-11aaa1a8fe71",
        "colab": {
          "base_uri": "https://localhost:8080/",
          "height": 35
        }
      },
      "source": [
        "y_train.shape"
      ],
      "execution_count": null,
      "outputs": [
        {
          "output_type": "execute_result",
          "data": {
            "text/plain": [
              "torch.Size([551])"
            ]
          },
          "metadata": {
            "tags": []
          },
          "execution_count": 11
        }
      ]
    },
    {
      "cell_type": "code",
      "metadata": {
        "id": "bnj6XTGi72uh",
        "outputId": "d6115b14-d31d-490c-e9b8-2977c1764490",
        "colab": {
          "base_uri": "https://localhost:8080/",
          "height": 431
        }
      },
      "source": [
        "y_train"
      ],
      "execution_count": null,
      "outputs": [
        {
          "output_type": "execute_result",
          "data": {
            "text/plain": [
              "tensor([0, 0, 2, 2, 3, 3, 3, 3, 1, 3, 3, 3, 3, 3, 0, 3, 3, 3, 3, 2, 3, 0, 3, 3,\n",
              "        3, 0, 0, 0, 2, 1, 0, 0, 3, 3, 3, 3, 0, 0, 0, 3, 3, 3, 0, 3, 3, 0, 0, 3,\n",
              "        3, 0, 0, 3, 0, 3, 0, 0, 0, 2, 3, 1, 3, 1, 0, 0, 0, 1, 0, 0, 3, 3, 1, 3,\n",
              "        0, 3, 3, 0, 0, 3, 3, 3, 3, 3, 1, 3, 3, 1, 3, 0, 3, 3, 3, 0, 3, 3, 3, 0,\n",
              "        3, 0, 0, 0, 3, 3, 2, 3, 3, 3, 3, 3, 3, 3, 3, 0, 3, 1, 3, 3, 3, 0, 3, 3,\n",
              "        3, 0, 2, 2, 3, 3, 0, 3, 1, 0, 2, 0, 1, 3, 3, 3, 3, 3, 3, 3, 1, 3, 1, 3,\n",
              "        3, 0, 3, 1, 2, 3, 3, 3, 3, 3, 0, 0, 3, 3, 0, 3, 3, 3, 2, 0, 1, 3, 3, 0,\n",
              "        3, 3, 3, 1, 0, 0, 3, 0, 3, 3, 3, 3, 3, 3, 0, 3, 0, 3, 3, 3, 3, 3, 3, 0,\n",
              "        3, 0, 2, 3, 0, 0, 2, 3, 3, 0, 0, 3, 2, 3, 0, 0, 3, 3, 2, 2, 3, 2, 3, 3,\n",
              "        3, 0, 0, 2, 0, 3, 0, 3, 3, 1, 3, 0, 3, 3, 3, 1, 0, 0, 1, 1, 0, 3, 3, 0,\n",
              "        2, 2, 0, 3, 3, 3, 0, 3, 0, 0, 1, 3, 3, 0, 0, 3, 0, 0, 1, 3, 1, 1, 0, 3,\n",
              "        3, 1, 2, 0, 3, 3, 3, 3, 3, 0, 3, 2, 3, 0, 3, 3, 3, 0, 0, 3, 0, 3, 3, 3,\n",
              "        3, 0, 3, 3, 3, 3, 3, 3, 1, 0, 0, 3, 3, 0, 3, 3, 2, 0, 0, 3, 0, 0, 3, 1,\n",
              "        3, 0, 3, 3, 3, 0, 0, 0, 0, 0, 3, 0, 0, 3, 3, 3, 1, 1, 3, 3, 0, 3, 3, 3,\n",
              "        0, 3, 3, 3, 3, 0, 3, 3, 0, 0, 0, 3, 3, 2, 3, 3, 2, 3, 0, 1, 0, 0, 3, 0,\n",
              "        0, 3, 1, 3, 3, 3, 3, 3, 3, 3, 2, 2, 3, 0, 3, 1, 0, 3, 3, 3, 3, 0, 1, 3,\n",
              "        0, 3, 3, 3, 3, 3, 0, 3, 3, 3, 0, 2, 3, 2, 3, 1, 0, 0, 0, 3, 3, 3, 0, 3,\n",
              "        3, 3, 0, 3, 3, 3, 3, 3, 3, 2, 3, 0, 3, 3, 0, 2, 0, 3, 3, 3, 3, 3, 3, 0,\n",
              "        0, 3, 3, 0, 3, 3, 1, 1, 3, 2, 3, 0, 3, 0, 0, 0, 1, 3, 1, 2, 3, 3, 0, 3,\n",
              "        0, 0, 2, 0, 3, 3, 2, 3, 1, 2, 0, 2, 3, 3, 0, 3, 0, 0, 3, 3, 0, 3, 2, 0,\n",
              "        0, 3, 1, 3, 3, 0, 1, 0, 3, 3, 0, 0, 1, 1, 3, 3, 3, 3, 0, 0, 0, 0, 1, 3,\n",
              "        3, 0, 0, 2, 3, 3, 0, 3, 3, 0, 0, 3, 3, 3, 3, 0, 0, 2, 1, 0, 1, 3, 3, 3,\n",
              "        3, 3, 3, 3, 3, 3, 3, 0, 3, 3, 2, 0, 3, 3, 0, 3, 3, 3, 3, 3, 2, 3, 0])"
            ]
          },
          "metadata": {
            "tags": []
          },
          "execution_count": 12
        }
      ]
    },
    {
      "cell_type": "markdown",
      "metadata": {
        "id": "H4DdKJ9y3YGb"
      },
      "source": [
        "1) linear regression"
      ]
    },
    {
      "cell_type": "code",
      "metadata": {
        "id": "04XiU4xM3ab3",
        "outputId": "4d8824fd-e6bf-4df8-8292-8967c1f98b0a",
        "colab": {
          "base_uri": "https://localhost:8080/",
          "height": 215
        }
      },
      "source": [
        "import torch.nn.functional as F\n",
        "\n",
        "nb_class=4\n",
        "nb_data = len(y_train)\n",
        "\n",
        "W=torch.zeros((7,nb_class), requires_grad=True)\n",
        "b=torch.zeros(1, requires_grad=True)\n",
        "\n",
        "optimizer = optim.SGD([W,b], lr=1)\n",
        "\n",
        "nb_epochs=10000\n",
        "for epoch in range(nb_epochs+1):\n",
        "  \n",
        "  hypothesis = F.softmax(x_train.matmul(W)+b, dim=1)\n",
        "\n",
        "  y_one_hot=torch.zeros(nb_data, nb_class)\n",
        "  y_one_hot.scatter_(1,y_train.unsqueeze(1),1)\n",
        "\n",
        "  cost=(y_one_hot * -torch.log(F.softmax(hypothesis, dim=1))).sum(dim=1).mean()\n",
        "\n",
        "  optimizer.zero_grad()\n",
        "  cost.backward()\n",
        "  optimizer.step()\n",
        "\n",
        "  if epoch % 1000==0:\n",
        "    print('Epoch {:4d}/{} cost: {:.6f} '.format(\n",
        "        epoch, nb_epochs, cost.item()\n",
        "    ))"
      ],
      "execution_count": null,
      "outputs": [
        {
          "output_type": "stream",
          "text": [
            "Epoch    0/10000 cost: 1.386295 \n",
            "Epoch 1000/10000 cost: 1.199204 \n",
            "Epoch 2000/10000 cost: 1.199204 \n",
            "Epoch 3000/10000 cost: 1.199204 \n",
            "Epoch 4000/10000 cost: 1.199204 \n",
            "Epoch 5000/10000 cost: 1.199204 \n",
            "Epoch 6000/10000 cost: 1.199204 \n",
            "Epoch 7000/10000 cost: 1.199204 \n",
            "Epoch 8000/10000 cost: 1.199204 \n",
            "Epoch 9000/10000 cost: 1.199204 \n",
            "Epoch 10000/10000 cost: 1.199204 \n"
          ],
          "name": "stdout"
        }
      ]
    },
    {
      "cell_type": "code",
      "metadata": {
        "id": "IYa6SROx4-Kg",
        "outputId": "d7cec5e5-2f30-466e-b4ea-62fc13d02d03",
        "colab": {
          "base_uri": "https://localhost:8080/",
          "height": 71
        }
      },
      "source": [
        "test=pd.read_csv('test.csv')\n",
        "\n",
        "x_test=test.to_numpy()\n",
        "x_test=torch.FloatTensor(x_test)\n",
        "\n",
        "hypothesis=F.softmax(x_test.matmul(W)+b, dim=1)\n",
        "predict=torch.argmax(hypothesis, dim=1)\n",
        "\n",
        "predict"
      ],
      "execution_count": null,
      "outputs": [
        {
          "output_type": "execute_result",
          "data": {
            "text/plain": [
              "tensor([3, 3, 3, 3, 3, 3, 3, 3, 3, 3, 3, 3, 3, 3, 3, 3, 3, 3, 3, 3, 3, 3, 3, 3,\n",
              "        3, 3, 3, 3, 3, 3, 3, 3, 3, 3, 3, 3, 3, 3, 3, 3, 3, 3, 3, 3, 3, 3, 3, 3,\n",
              "        3, 3, 3, 3, 3, 3, 3, 3, 3, 3, 3, 3, 3, 3], grad_fn=<NotImplemented>)"
            ]
          },
          "metadata": {
            "tags": []
          },
          "execution_count": 14
        }
      ]
    },
    {
      "cell_type": "code",
      "metadata": {
        "id": "MXyp9Q5C5I5P",
        "outputId": "901e0756-1d94-4d85-915d-a4a8525719dd",
        "colab": {
          "base_uri": "https://localhost:8080/",
          "height": 69
        }
      },
      "source": [
        "solution=pd.read_csv('solution.csv')\n",
        "y_test=solution.iloc[:,1]\n",
        "\n",
        "y_test=y_test.to_numpy()\n",
        "y_test=torch.LongTensor(y_test)\n",
        "y_test"
      ],
      "execution_count": null,
      "outputs": [
        {
          "output_type": "execute_result",
          "data": {
            "text/plain": [
              "tensor([3, 0, 0, 0, 3, 0, 0, 1, 3, 0, 0, 3, 3, 0, 3, 0, 3, 0, 0, 3, 0, 0, 0, 3,\n",
              "        0, 0, 3, 3, 0, 0, 0, 3, 0, 3, 3, 3, 1, 0, 3, 3, 1, 1, 3, 3, 0, 3, 3, 3,\n",
              "        3, 3, 0, 0, 3, 3, 2, 3, 3, 3, 3, 1, 3, 0])"
            ]
          },
          "metadata": {
            "tags": []
          },
          "execution_count": 15
        }
      ]
    },
    {
      "cell_type": "code",
      "metadata": {
        "id": "wpdfKlcL4-Y_",
        "outputId": "f3fa2bd9-e00a-4dc2-b431-2a9107724cfe",
        "colab": {
          "base_uri": "https://localhost:8080/",
          "height": 34
        }
      },
      "source": [
        "correct = predict == y_test\n",
        "accuracy=correct.float().mean()\n",
        "\n",
        "print('Accuracy:', accuracy.item())"
      ],
      "execution_count": null,
      "outputs": [
        {
          "output_type": "stream",
          "text": [
            "Accuracy: 0.5\n"
          ],
          "name": "stdout"
        }
      ]
    },
    {
      "cell_type": "markdown",
      "metadata": {
        "id": "sfAK5cuzIXWj"
      },
      "source": [
        "### 3layer \n",
        "- xavier init\n",
        "- Adam\n",
        "- hidden layer node 개수: 512\n",
        "- 학습 파라미터 설정\n",
        "  learning_rate = 0.01\n",
        "  training_epochs = 15\n",
        "  batch_size = 100\n",
        "-> Accuracy: 0.5483871102333069"
      ]
    },
    {
      "cell_type": "markdown",
      "metadata": {
        "id": "d1lfr0s758eB"
      },
      "source": [
        "### training epoch과 hidden layer node 개수 변경\n",
        "- training_epochs = 55\n",
        "- hidden layer node 개수: 256\n",
        "\n",
        "-> Accuracy: 0.725806474685669"
      ]
    },
    {
      "cell_type": "code",
      "metadata": {
        "id": "E18Pshc4jcWA"
      },
      "source": [
        "device = 'cuda' if torch.cuda.is_available() else 'cpu'\n",
        "\n",
        "random.seed(777)\n",
        "torch.manual_seed(777)\n",
        "if device == 'cuda':\n",
        "  torch.cuda.manual_seed_all(777)"
      ],
      "execution_count": null,
      "outputs": []
    },
    {
      "cell_type": "code",
      "metadata": {
        "id": "hj7_kGacAx8E"
      },
      "source": [
        "# 학습 파라미터 설정\n",
        "learning_rate = 0.01\n",
        "training_epochs = 55\n",
        "batch_size = 100"
      ],
      "execution_count": null,
      "outputs": []
    },
    {
      "cell_type": "code",
      "metadata": {
        "id": "AoylCqakCAEw"
      },
      "source": [
        "\n",
        "train = torch.utils.data.TensorDataset(x_train, y_train)"
      ],
      "execution_count": null,
      "outputs": []
    },
    {
      "cell_type": "code",
      "metadata": {
        "id": "fJFjuq6VAjfr"
      },
      "source": [
        "data_loader = torch.utils.data.DataLoader(dataset=train,\n",
        "                                          batch_size=batch_size,\n",
        "                                          shuffle=True,\n",
        "                                          drop_last=True)\n",
        "#xy=train"
      ],
      "execution_count": null,
      "outputs": []
    },
    {
      "cell_type": "code",
      "metadata": {
        "id": "hBUKcIAKBGqm"
      },
      "source": [
        "# 3-Layer\n",
        "\n",
        "linear1 = torch.nn.Linear(7,256,bias=True)\n",
        "linear2 = torch.nn.Linear(256,256,bias=True)\n",
        "linear3 = torch.nn.Linear(256,4,bias=True)\n",
        "relu = torch.nn.ReLU()"
      ],
      "execution_count": null,
      "outputs": []
    },
    {
      "cell_type": "code",
      "metadata": {
        "id": "4hHP0LoeH45G",
        "outputId": "b94ef149-cb71-4899-f212-d2a205a8faaf",
        "colab": {
          "base_uri": "https://localhost:8080/",
          "height": 122
        }
      },
      "source": [
        "# Random Init => Xavier Init\n",
        "torch.nn.init.xavier_normal_(linear1.weight)\n",
        "torch.nn.init.xavier_normal_(linear2.weight)\n",
        "torch.nn.init.xavier_normal_(linear3.weight)"
      ],
      "execution_count": null,
      "outputs": [
        {
          "output_type": "execute_result",
          "data": {
            "text/plain": [
              "Parameter containing:\n",
              "tensor([[ 0.0191,  0.0337,  0.0226,  ..., -0.0312, -0.0489, -0.0005],\n",
              "        [-0.0130,  0.0307, -0.0692,  ..., -0.0873, -0.1966,  0.0183],\n",
              "        [-0.0366,  0.0039, -0.0539,  ...,  0.1732, -0.0786, -0.0262],\n",
              "        [-0.0586, -0.1101, -0.1071,  ..., -0.0391,  0.0904, -0.0184]],\n",
              "       requires_grad=True)"
            ]
          },
          "metadata": {
            "tags": []
          },
          "execution_count": 206
        }
      ]
    },
    {
      "cell_type": "code",
      "metadata": {
        "id": "ADoo1K5BBU4l"
      },
      "source": [
        "model = torch.nn.Sequential(linear1,relu,linear2,relu,linear3).to(device)"
      ],
      "execution_count": null,
      "outputs": []
    },
    {
      "cell_type": "code",
      "metadata": {
        "id": "BOnhTWQ6BU2n"
      },
      "source": [
        "# 손실함수와 최적화 함수\n",
        "loss = torch.nn.CrossEntropyLoss().to(device) # softmax 내부적으로 계산\n",
        "optimizer = torch.optim.Adam(model.parameters(), lr=learning_rate) "
      ],
      "execution_count": null,
      "outputs": []
    },
    {
      "cell_type": "code",
      "metadata": {
        "id": "7j3F1O2iBU0k",
        "outputId": "b973e766-5f3c-4170-e818-91824a723e53",
        "colab": {
          "base_uri": "https://localhost:8080/",
          "height": 997
        }
      },
      "source": [
        "\n",
        "total_batch = len(data_loader)\n",
        "for epoch in range(training_epochs):\n",
        "    avg_cost = 0\n",
        "\n",
        "    for X, Y in data_loader:\n",
        "\n",
        "        # one-hot encoding되어 있지 않음\n",
        "        Y = Y.to(device)\n",
        "        #%debug\n",
        "\n",
        "        # 그래디언트 초기화\n",
        "        optimizer.zero_grad()\n",
        "        # Forward 계산\n",
        "        hypothesis = model(X)\n",
        "        # Error 계산\n",
        "        cost = loss(hypothesis, Y)\n",
        "        # Backparopagation\n",
        "        cost.backward()\n",
        "        # 가중치 갱신\n",
        "        optimizer.step()\n",
        "\n",
        "        # 평균 Error 계산\n",
        "        avg_cost += cost / total_batch\n",
        "\n",
        "    print('Epoch:', '%04d' % (epoch + 1), 'cost =', '{:.9f}'.format(avg_cost))\n",
        "\n",
        "print('Learning finished')"
      ],
      "execution_count": null,
      "outputs": [
        {
          "output_type": "stream",
          "text": [
            "Epoch: 0001 cost = 4618.148437500\n",
            "Epoch: 0002 cost = 634.161987305\n",
            "Epoch: 0003 cost = 403.280487061\n",
            "Epoch: 0004 cost = 285.489440918\n",
            "Epoch: 0005 cost = 87.098579407\n",
            "Epoch: 0006 cost = 59.655490875\n",
            "Epoch: 0007 cost = 46.773086548\n",
            "Epoch: 0008 cost = 30.862031937\n",
            "Epoch: 0009 cost = 22.525419235\n",
            "Epoch: 0010 cost = 30.513933182\n",
            "Epoch: 0011 cost = 21.525777817\n",
            "Epoch: 0012 cost = 18.017164230\n",
            "Epoch: 0013 cost = 9.530428886\n",
            "Epoch: 0014 cost = 9.234341621\n",
            "Epoch: 0015 cost = 6.006206512\n",
            "Epoch: 0016 cost = 3.274038792\n",
            "Epoch: 0017 cost = 4.619340420\n",
            "Epoch: 0018 cost = 4.316328526\n",
            "Epoch: 0019 cost = 3.867229223\n",
            "Epoch: 0020 cost = 2.192936182\n",
            "Epoch: 0021 cost = 2.100803614\n",
            "Epoch: 0022 cost = 1.767905354\n",
            "Epoch: 0023 cost = 1.586549759\n",
            "Epoch: 0024 cost = 1.418062210\n",
            "Epoch: 0025 cost = 1.452842236\n",
            "Epoch: 0026 cost = 1.245497465\n",
            "Epoch: 0027 cost = 1.203593969\n",
            "Epoch: 0028 cost = 1.209717274\n",
            "Epoch: 0029 cost = 1.141152382\n",
            "Epoch: 0030 cost = 1.083192348\n",
            "Epoch: 0031 cost = 1.102835059\n",
            "Epoch: 0032 cost = 1.065571308\n",
            "Epoch: 0033 cost = 1.009514689\n",
            "Epoch: 0034 cost = 1.097697377\n",
            "Epoch: 0035 cost = 1.097200513\n",
            "Epoch: 0036 cost = 1.161482573\n",
            "Epoch: 0037 cost = 1.187003851\n",
            "Epoch: 0038 cost = 1.249467611\n",
            "Epoch: 0039 cost = 1.156354189\n",
            "Epoch: 0040 cost = 1.111640334\n",
            "Epoch: 0041 cost = 1.073411345\n",
            "Epoch: 0042 cost = 1.027861238\n",
            "Epoch: 0043 cost = 1.038655400\n",
            "Epoch: 0044 cost = 1.035778642\n",
            "Epoch: 0045 cost = 1.035553575\n",
            "Epoch: 0046 cost = 1.058671474\n",
            "Epoch: 0047 cost = 1.073831916\n",
            "Epoch: 0048 cost = 1.011322618\n",
            "Epoch: 0049 cost = 1.086352825\n",
            "Epoch: 0050 cost = 1.138582468\n",
            "Epoch: 0051 cost = 1.101756692\n",
            "Epoch: 0052 cost = 1.076925159\n",
            "Epoch: 0053 cost = 1.028695583\n",
            "Epoch: 0054 cost = 0.941393852\n",
            "Epoch: 0055 cost = 0.993269205\n",
            "Learning finished\n"
          ],
          "name": "stdout"
        }
      ]
    },
    {
      "cell_type": "code",
      "metadata": {
        "id": "5vvQVAF4BeZ7",
        "outputId": "a1c403f1-4b6a-455e-a5f8-23bbf220a409",
        "colab": {
          "base_uri": "https://localhost:8080/",
          "height": 69
        }
      },
      "source": [
        "test=pd.read_csv('test.csv')\n",
        "\n",
        "with torch.no_grad():\n",
        "  x_test=test.loc[:,:]\n",
        "  x_test=np.array(x_test)\n",
        "  x_test=torch.from_numpy(x_test).float().to(device)\n",
        "\n",
        "  prediction=model(x_test)\n",
        "  prediction = torch.argmax(prediction, 1)\n",
        "\n",
        "prediction"
      ],
      "execution_count": null,
      "outputs": [
        {
          "output_type": "execute_result",
          "data": {
            "text/plain": [
              "tensor([3, 0, 0, 3, 3, 3, 0, 3, 3, 0, 0, 3, 3, 0, 3, 0, 3, 0, 3, 3, 0, 3, 3, 3,\n",
              "        0, 3, 3, 3, 0, 0, 3, 3, 3, 3, 3, 3, 3, 3, 3, 3, 3, 3, 3, 3, 3, 3, 3, 3,\n",
              "        3, 3, 3, 0, 3, 3, 3, 3, 3, 3, 3, 3, 3, 0])"
            ]
          },
          "metadata": {
            "tags": []
          },
          "execution_count": 210
        }
      ]
    },
    {
      "cell_type": "code",
      "metadata": {
        "id": "08-DC298EZiw"
      },
      "source": [
        "# prediction = prediction.cpu().numpy().reshape(-1,1)"
      ],
      "execution_count": null,
      "outputs": []
    },
    {
      "cell_type": "code",
      "metadata": {
        "id": "S3rKr8HbEmKg",
        "outputId": "64526b30-0b84-415b-f088-b926a27ba520",
        "colab": {
          "base_uri": "https://localhost:8080/",
          "height": 227
        }
      },
      "source": [
        "solution=pd.read_csv('solution.csv')\n",
        "y_test=solution.iloc[:,1]\n",
        "y_test"
      ],
      "execution_count": null,
      "outputs": [
        {
          "output_type": "execute_result",
          "data": {
            "text/plain": [
              "0     3\n",
              "1     0\n",
              "2     0\n",
              "3     0\n",
              "4     3\n",
              "     ..\n",
              "57    3\n",
              "58    3\n",
              "59    1\n",
              "60    3\n",
              "61    0\n",
              "Name: Label, Length: 62, dtype: int64"
            ]
          },
          "metadata": {
            "tags": []
          },
          "execution_count": 212
        }
      ]
    },
    {
      "cell_type": "code",
      "metadata": {
        "id": "KeaBQxzFEcdi",
        "outputId": "3bca9908-da69-462f-bf48-96e65d158293",
        "colab": {
          "base_uri": "https://localhost:8080/",
          "height": 69
        }
      },
      "source": [
        "y_test=y_test.to_numpy()\n",
        "y_test=torch.LongTensor(y_test)\n",
        "y_test"
      ],
      "execution_count": null,
      "outputs": [
        {
          "output_type": "execute_result",
          "data": {
            "text/plain": [
              "tensor([3, 0, 0, 0, 3, 0, 0, 1, 3, 0, 0, 3, 3, 0, 3, 0, 3, 0, 0, 3, 0, 0, 0, 3,\n",
              "        0, 0, 3, 3, 0, 0, 0, 3, 0, 3, 3, 3, 1, 0, 3, 3, 1, 1, 3, 3, 0, 3, 3, 3,\n",
              "        3, 3, 0, 0, 3, 3, 2, 3, 3, 3, 3, 1, 3, 0])"
            ]
          },
          "metadata": {
            "tags": []
          },
          "execution_count": 213
        }
      ]
    },
    {
      "cell_type": "code",
      "metadata": {
        "id": "iSoz3eAsFX8I",
        "outputId": "e88e2435-310a-48b9-f899-6103296b7354",
        "colab": {
          "base_uri": "https://localhost:8080/",
          "height": 34
        }
      },
      "source": [
        "correct = prediction == y_test\n",
        "accuracy=correct.float().mean()\n",
        "\n",
        "print('Accuracy:', accuracy.item())"
      ],
      "execution_count": null,
      "outputs": [
        {
          "output_type": "stream",
          "text": [
            "Accuracy: 0.725806474685669\n"
          ],
          "name": "stdout"
        }
      ]
    },
    {
      "cell_type": "code",
      "metadata": {
        "id": "cwRRVe2O7ECl",
        "outputId": "e8d9d176-2853-42fc-ecaf-a4aec471d318",
        "colab": {
          "base_uri": "https://localhost:8080/",
          "height": 407
        }
      },
      "source": [
        "submit = pd.read_csv('submit.csv')\n",
        "submit"
      ],
      "execution_count": null,
      "outputs": [
        {
          "output_type": "execute_result",
          "data": {
            "text/html": [
              "<div>\n",
              "<style scoped>\n",
              "    .dataframe tbody tr th:only-of-type {\n",
              "        vertical-align: middle;\n",
              "    }\n",
              "\n",
              "    .dataframe tbody tr th {\n",
              "        vertical-align: top;\n",
              "    }\n",
              "\n",
              "    .dataframe thead th {\n",
              "        text-align: right;\n",
              "    }\n",
              "</style>\n",
              "<table border=\"1\" class=\"dataframe\">\n",
              "  <thead>\n",
              "    <tr style=\"text-align: right;\">\n",
              "      <th></th>\n",
              "      <th>ID</th>\n",
              "      <th>Label</th>\n",
              "    </tr>\n",
              "  </thead>\n",
              "  <tbody>\n",
              "    <tr>\n",
              "      <th>0</th>\n",
              "      <td>0</td>\n",
              "      <td>0</td>\n",
              "    </tr>\n",
              "    <tr>\n",
              "      <th>1</th>\n",
              "      <td>1</td>\n",
              "      <td>0</td>\n",
              "    </tr>\n",
              "    <tr>\n",
              "      <th>2</th>\n",
              "      <td>2</td>\n",
              "      <td>0</td>\n",
              "    </tr>\n",
              "    <tr>\n",
              "      <th>3</th>\n",
              "      <td>3</td>\n",
              "      <td>0</td>\n",
              "    </tr>\n",
              "    <tr>\n",
              "      <th>4</th>\n",
              "      <td>4</td>\n",
              "      <td>0</td>\n",
              "    </tr>\n",
              "    <tr>\n",
              "      <th>...</th>\n",
              "      <td>...</td>\n",
              "      <td>...</td>\n",
              "    </tr>\n",
              "    <tr>\n",
              "      <th>57</th>\n",
              "      <td>57</td>\n",
              "      <td>0</td>\n",
              "    </tr>\n",
              "    <tr>\n",
              "      <th>58</th>\n",
              "      <td>58</td>\n",
              "      <td>0</td>\n",
              "    </tr>\n",
              "    <tr>\n",
              "      <th>59</th>\n",
              "      <td>59</td>\n",
              "      <td>0</td>\n",
              "    </tr>\n",
              "    <tr>\n",
              "      <th>60</th>\n",
              "      <td>60</td>\n",
              "      <td>0</td>\n",
              "    </tr>\n",
              "    <tr>\n",
              "      <th>61</th>\n",
              "      <td>61</td>\n",
              "      <td>0</td>\n",
              "    </tr>\n",
              "  </tbody>\n",
              "</table>\n",
              "<p>62 rows × 2 columns</p>\n",
              "</div>"
            ],
            "text/plain": [
              "    ID  Label\n",
              "0    0      0\n",
              "1    1      0\n",
              "2    2      0\n",
              "3    3      0\n",
              "4    4      0\n",
              "..  ..    ...\n",
              "57  57      0\n",
              "58  58      0\n",
              "59  59      0\n",
              "60  60      0\n",
              "61  61      0\n",
              "\n",
              "[62 rows x 2 columns]"
            ]
          },
          "metadata": {
            "tags": []
          },
          "execution_count": 32
        }
      ]
    },
    {
      "cell_type": "code",
      "metadata": {
        "id": "kQPRKO8r7EAB",
        "outputId": "ef38b30b-bf56-48bb-88d5-9c8b02266824",
        "colab": {
          "base_uri": "https://localhost:8080/",
          "height": 1000
        }
      },
      "source": [
        "id=np.array([i for i in range(62)]).reshape(-1,1)\n",
        "prediction=prediction.reshape(-1,1)\n",
        "\n",
        "result=np.hstack([id, prediction])\n",
        "df=pd.DataFrame(result, columns=['ID','Label'])\n",
        "df.to_csv('baseline.csv', index=False, header=True)\n",
        "\n",
        "result"
      ],
      "execution_count": null,
      "outputs": [
        {
          "output_type": "execute_result",
          "data": {
            "text/plain": [
              "array([[ 0,  3],\n",
              "       [ 1,  0],\n",
              "       [ 2,  0],\n",
              "       [ 3,  3],\n",
              "       [ 4,  3],\n",
              "       [ 5,  3],\n",
              "       [ 6,  0],\n",
              "       [ 7,  3],\n",
              "       [ 8,  3],\n",
              "       [ 9,  0],\n",
              "       [10,  0],\n",
              "       [11,  3],\n",
              "       [12,  3],\n",
              "       [13,  0],\n",
              "       [14,  3],\n",
              "       [15,  0],\n",
              "       [16,  3],\n",
              "       [17,  0],\n",
              "       [18,  3],\n",
              "       [19,  3],\n",
              "       [20,  0],\n",
              "       [21,  3],\n",
              "       [22,  3],\n",
              "       [23,  3],\n",
              "       [24,  0],\n",
              "       [25,  3],\n",
              "       [26,  3],\n",
              "       [27,  3],\n",
              "       [28,  0],\n",
              "       [29,  0],\n",
              "       [30,  3],\n",
              "       [31,  3],\n",
              "       [32,  3],\n",
              "       [33,  3],\n",
              "       [34,  3],\n",
              "       [35,  3],\n",
              "       [36,  3],\n",
              "       [37,  3],\n",
              "       [38,  3],\n",
              "       [39,  3],\n",
              "       [40,  3],\n",
              "       [41,  3],\n",
              "       [42,  3],\n",
              "       [43,  3],\n",
              "       [44,  3],\n",
              "       [45,  3],\n",
              "       [46,  3],\n",
              "       [47,  3],\n",
              "       [48,  3],\n",
              "       [49,  3],\n",
              "       [50,  3],\n",
              "       [51,  0],\n",
              "       [52,  3],\n",
              "       [53,  3],\n",
              "       [54,  3],\n",
              "       [55,  3],\n",
              "       [56,  3],\n",
              "       [57,  3],\n",
              "       [58,  3],\n",
              "       [59,  3],\n",
              "       [60,  3],\n",
              "       [61,  0]])"
            ]
          },
          "metadata": {
            "tags": []
          },
          "execution_count": 33
        }
      ]
    },
    {
      "cell_type": "markdown",
      "metadata": {
        "id": "r-uBTW2uKqBX"
      },
      "source": [
        "### layer수를 변경해보기\n",
        "\n",
        "#### 2) 5layer\n",
        "- Xavier Init\n",
        "- Adam \n",
        "- 학습 파라미터 동일.\n",
        "- hidden layer의 노드개수 256\n",
        "\n",
        "-> accuracy: 0.5\n",
        "- 오히려 감소했다."
      ]
    },
    {
      "cell_type": "markdown",
      "metadata": {
        "id": "XYme_p9iZjX_"
      },
      "source": [
        "3) 5layer dropout\n",
        "\n",
        "->  0.4516128897666931\n",
        "- 더 감소..\n",
        "\n"
      ]
    },
    {
      "cell_type": "markdown",
      "metadata": {
        "id": "UowXz2IK6i9-"
      },
      "source": [
        "3)번 수정하면서 변화 확인하기\n",
        "-  hidden layer의 노드수를 256 -> 512 변경\n",
        "- epoch 변경\n",
        "- 4layer로 수정 \n",
        "-> 모두 accuracy 차이 x"
      ]
    },
    {
      "cell_type": "code",
      "metadata": {
        "id": "pRYTRdfI0vtw"
      },
      "source": [
        "device = 'cuda' if torch.cuda.is_available() else 'cpu'\n",
        "\n",
        "random.seed(777)\n",
        "torch.manual_seed(777)\n",
        "if device == 'cuda':\n",
        "  torch.cuda.manual_seed_all(777)"
      ],
      "execution_count": null,
      "outputs": []
    },
    {
      "cell_type": "code",
      "metadata": {
        "id": "2GxR6EgmZJEJ"
      },
      "source": [
        "# 학습 파라미터 설정\n",
        "learning_rate = 0.01\n",
        "training_epochs = 15\n",
        "batch_size = 100\n",
        "drop_prob = 0.3"
      ],
      "execution_count": null,
      "outputs": []
    },
    {
      "cell_type": "code",
      "metadata": {
        "id": "cvCKQOytIjbw"
      },
      "source": [
        "data_loader = torch.utils.data.DataLoader(dataset=train,\n",
        "                                          batch_size=batch_size,\n",
        "                                          shuffle=True,\n",
        "                                          drop_last=True)\n"
      ],
      "execution_count": null,
      "outputs": []
    },
    {
      "cell_type": "code",
      "metadata": {
        "id": "3CmGmttVKp2w"
      },
      "source": [
        "# 5-layer, node 512개\n",
        "\n",
        "linear1 = torch.nn.Linear(7,512,bias=True)\n",
        "linear2 = torch.nn.Linear(512,512,bias=True)\n",
        "linear3 = torch.nn.Linear(512,512,bias=True)\n",
        "linear4 = torch.nn.Linear(512,512,bias=True)\n",
        "linear5 = torch.nn.Linear(512,4,bias=True)\n",
        "relu = torch.nn.ReLU()\n",
        "dropout = torch.nn.Dropout(p=drop_prob)"
      ],
      "execution_count": null,
      "outputs": []
    },
    {
      "cell_type": "code",
      "metadata": {
        "id": "qnTO67ksGWbc",
        "outputId": "e5287312-832e-4ead-a095-e1a4ddc8353c",
        "colab": {
          "base_uri": "https://localhost:8080/",
          "height": 122
        }
      },
      "source": [
        "# Random Init => Xavier Init\n",
        "torch.nn.init.xavier_normal_(linear1.weight)\n",
        "torch.nn.init.xavier_normal_(linear2.weight)\n",
        "torch.nn.init.xavier_normal_(linear3.weight)\n",
        "torch.nn.init.xavier_normal_(linear4.weight)\n",
        "torch.nn.init.xavier_normal_(linear5.weight)"
      ],
      "execution_count": null,
      "outputs": [
        {
          "output_type": "execute_result",
          "data": {
            "text/plain": [
              "Parameter containing:\n",
              "tensor([[ 0.0339,  0.0071, -0.0097,  ...,  0.1105, -0.0747,  0.0206],\n",
              "        [ 0.0766, -0.0139,  0.0103,  ..., -0.0071, -0.0481,  0.0749],\n",
              "        [ 0.0902, -0.0071,  0.0309,  ..., -0.0588,  0.0051,  0.0301],\n",
              "        [ 0.0328,  0.0503,  0.0254,  ...,  0.0017, -0.0767,  0.0686]],\n",
              "       requires_grad=True)"
            ]
          },
          "metadata": {
            "tags": []
          },
          "execution_count": 194
        }
      ]
    },
    {
      "cell_type": "code",
      "metadata": {
        "id": "pVMOqF8jK_M3"
      },
      "source": [
        "model = torch.nn.Sequential(linear1,relu,dropout,\n",
        "                            linear2,relu,dropout,\n",
        "                            linear3,relu,dropout,\n",
        "                            linear4,relu,dropout,\n",
        "                            linear5).to(device)"
      ],
      "execution_count": null,
      "outputs": []
    },
    {
      "cell_type": "code",
      "metadata": {
        "id": "6Aj27lxILI9q"
      },
      "source": [
        "# 손실함수와 최적화 함수\n",
        "loss = torch.nn.CrossEntropyLoss().to(device) # softmax 내부적으로 계산\n",
        "optimizer = torch.optim.Adam(model.parameters(), lr=learning_rate) "
      ],
      "execution_count": null,
      "outputs": []
    },
    {
      "cell_type": "code",
      "metadata": {
        "id": "Hb4hT37sLLep",
        "outputId": "223f3a77-f2a2-4eb8-cc78-d24e52b6f360",
        "colab": {
          "base_uri": "https://localhost:8080/",
          "height": 297
        }
      },
      "source": [
        "\n",
        "total_batch = len(data_loader)\n",
        "model.train()                   #\n",
        "\n",
        "for epoch in range(training_epochs):\n",
        "    avg_cost = 0\n",
        "\n",
        "    for X, Y in data_loader:\n",
        "\n",
        "        # one-hot encoding되어 있지 않음\n",
        "        Y = Y.to(device)\n",
        "        #%debug\n",
        "\n",
        "        # 그래디언트 초기화\n",
        "        optimizer.zero_grad()\n",
        "        # Forward 계산\n",
        "        hypothesis = model(X)\n",
        "        # Error 계산\n",
        "        cost = loss(hypothesis, Y)\n",
        "        # Backparopagation\n",
        "        cost.backward()\n",
        "        # 가중치 갱신\n",
        "        optimizer.step()\n",
        "\n",
        "        # 평균 Error 계산\n",
        "        avg_cost += cost / total_batch\n",
        "\n",
        "    print('Epoch:', '%04d' % (epoch + 1), 'cost =', '{:.9f}'.format(avg_cost))\n",
        "\n",
        "print('Learning finished')"
      ],
      "execution_count": null,
      "outputs": [
        {
          "output_type": "stream",
          "text": [
            "Epoch: 0001 cost = 8011.513183594\n",
            "Epoch: 0002 cost = 86.645294189\n",
            "Epoch: 0003 cost = 14.006909370\n",
            "Epoch: 0004 cost = 4.441485405\n",
            "Epoch: 0005 cost = 1.798620939\n",
            "Epoch: 0006 cost = 1.500811815\n",
            "Epoch: 0007 cost = 1.315311670\n",
            "Epoch: 0008 cost = 1.272233129\n",
            "Epoch: 0009 cost = 1.277658701\n",
            "Epoch: 0010 cost = 1.268587232\n",
            "Epoch: 0011 cost = 1.246531725\n",
            "Epoch: 0012 cost = 1.206743360\n",
            "Epoch: 0013 cost = 1.179470778\n",
            "Epoch: 0014 cost = 1.192618728\n",
            "Epoch: 0015 cost = 1.162581921\n",
            "Learning finished\n"
          ],
          "name": "stdout"
        }
      ]
    },
    {
      "cell_type": "code",
      "metadata": {
        "id": "WOG7nSIWLOxK",
        "outputId": "a07e8388-f140-41f7-e12d-b1909cb237ca",
        "colab": {
          "base_uri": "https://localhost:8080/",
          "height": 69
        }
      },
      "source": [
        "with torch.no_grad():\n",
        "  model.eval() \n",
        "  x_test=test.loc[:,:]\n",
        "  x_test=np.array(x_test)\n",
        "  x_test=torch.from_numpy(x_test).float().to(device)\n",
        "\n",
        "  prediction=model(x_test)\n",
        "  prediction = torch.argmax(prediction, 1)\n",
        "  \n",
        "  print(prediction)"
      ],
      "execution_count": null,
      "outputs": [
        {
          "output_type": "stream",
          "text": [
            "tensor([3, 3, 3, 3, 3, 3, 3, 3, 3, 3, 3, 3, 3, 3, 3, 3, 3, 3, 3, 3, 3, 3, 3, 3,\n",
            "        3, 3, 3, 3, 3, 3, 3, 3, 3, 3, 3, 3, 3, 3, 3, 3, 3, 3, 3, 3, 3, 3, 3, 3,\n",
            "        3, 3, 3, 3, 3, 3, 3, 3, 3, 3, 3, 3, 3, 3])\n"
          ],
          "name": "stdout"
        }
      ]
    },
    {
      "cell_type": "code",
      "metadata": {
        "id": "5oN0HE0jLYuf",
        "outputId": "73641f5a-c59a-466b-9f47-5b7fdf15e114",
        "colab": {
          "base_uri": "https://localhost:8080/",
          "height": 34
        }
      },
      "source": [
        "correct = prediction == y_test\n",
        "accuracy=correct.float().mean()\n",
        "\n",
        "print('Accuracy:', accuracy.item())"
      ],
      "execution_count": null,
      "outputs": [
        {
          "output_type": "stream",
          "text": [
            "Accuracy: 0.5\n"
          ],
          "name": "stdout"
        }
      ]
    },
    {
      "cell_type": "code",
      "metadata": {
        "id": "5MYS2wtGMyEj"
      },
      "source": [
        ""
      ],
      "execution_count": null,
      "outputs": []
    }
  ]
}