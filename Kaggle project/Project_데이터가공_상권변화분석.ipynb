{
  "nbformat": 4,
  "nbformat_minor": 0,
  "metadata": {
    "colab": {
      "name": "Project_상권변화분석 데이터가공.ipynb",
      "provenance": [],
      "collapsed_sections": []
    },
    "kernelspec": {
      "name": "python3",
      "display_name": "Python 3"
    }
  },
  "cells": [
    {
      "cell_type": "markdown",
      "metadata": {
        "id": "Nl5VRutMYb4z"
      },
      "source": [
        ""
      ]
    },
    {
      "cell_type": "code",
      "metadata": {
        "id": "Eh2RRRPHYIjA",
        "outputId": "8d5915cf-0678-4e26-8bd5-bc484488932e",
        "colab": {
          "base_uri": "https://localhost:8080/",
          "height": 399
        }
      },
      "source": [
        "import numpy as np\n",
        "import torch\n",
        "import torch.optim as optim\n",
        "import pandas as pd\n",
        "\n",
        "\n",
        "#서울시 우리마을가게 상권분석서비스(자치구별 상권변화지표)\n",
        "\n",
        "#encoding= 'CP949' : 한글을 읽어들이기 위해서.\n",
        "\n",
        "df=pd.read_csv('서울시 우리마을가게 상권분석서비스(자치구별 상권변화지표).csv', encoding= 'CP949')\n",
        "df\n"
      ],
      "execution_count": null,
      "outputs": [
        {
          "output_type": "execute_result",
          "data": {
            "text/html": [
              "<div>\n",
              "<style scoped>\n",
              "    .dataframe tbody tr th:only-of-type {\n",
              "        vertical-align: middle;\n",
              "    }\n",
              "\n",
              "    .dataframe tbody tr th {\n",
              "        vertical-align: top;\n",
              "    }\n",
              "\n",
              "    .dataframe thead th {\n",
              "        text-align: right;\n",
              "    }\n",
              "</style>\n",
              "<table border=\"1\" class=\"dataframe\">\n",
              "  <thead>\n",
              "    <tr style=\"text-align: right;\">\n",
              "      <th></th>\n",
              "      <th>기준_년_코드</th>\n",
              "      <th>기준_분기_코드</th>\n",
              "      <th>시군구_코드</th>\n",
              "      <th>시군구_코드_명</th>\n",
              "      <th>상권_변화_지표</th>\n",
              "      <th>상권_변화_지표_명</th>\n",
              "      <th>운영_영업_개월_평균</th>\n",
              "      <th>폐업_영업_개월_평균</th>\n",
              "      <th>서울_운영_영업_개월_평균</th>\n",
              "      <th>서울_폐업_영업_개월_평균</th>\n",
              "    </tr>\n",
              "  </thead>\n",
              "  <tbody>\n",
              "    <tr>\n",
              "      <th>0</th>\n",
              "      <td>2019</td>\n",
              "      <td>4</td>\n",
              "      <td>11740</td>\n",
              "      <td>강동구</td>\n",
              "      <td>LL</td>\n",
              "      <td>다이나믹</td>\n",
              "      <td>105</td>\n",
              "      <td>50</td>\n",
              "      <td>110</td>\n",
              "      <td>54</td>\n",
              "    </tr>\n",
              "    <tr>\n",
              "      <th>1</th>\n",
              "      <td>2019</td>\n",
              "      <td>4</td>\n",
              "      <td>11710</td>\n",
              "      <td>송파구</td>\n",
              "      <td>LL</td>\n",
              "      <td>다이나믹</td>\n",
              "      <td>110</td>\n",
              "      <td>53</td>\n",
              "      <td>110</td>\n",
              "      <td>54</td>\n",
              "    </tr>\n",
              "    <tr>\n",
              "      <th>2</th>\n",
              "      <td>2019</td>\n",
              "      <td>4</td>\n",
              "      <td>11680</td>\n",
              "      <td>강남구</td>\n",
              "      <td>LL</td>\n",
              "      <td>다이나믹</td>\n",
              "      <td>106</td>\n",
              "      <td>50</td>\n",
              "      <td>110</td>\n",
              "      <td>54</td>\n",
              "    </tr>\n",
              "    <tr>\n",
              "      <th>3</th>\n",
              "      <td>2019</td>\n",
              "      <td>4</td>\n",
              "      <td>11650</td>\n",
              "      <td>서초구</td>\n",
              "      <td>HH</td>\n",
              "      <td>정체</td>\n",
              "      <td>118</td>\n",
              "      <td>54</td>\n",
              "      <td>110</td>\n",
              "      <td>54</td>\n",
              "    </tr>\n",
              "    <tr>\n",
              "      <th>4</th>\n",
              "      <td>2019</td>\n",
              "      <td>4</td>\n",
              "      <td>11620</td>\n",
              "      <td>관악구</td>\n",
              "      <td>LL</td>\n",
              "      <td>다이나믹</td>\n",
              "      <td>108</td>\n",
              "      <td>52</td>\n",
              "      <td>110</td>\n",
              "      <td>54</td>\n",
              "    </tr>\n",
              "    <tr>\n",
              "      <th>...</th>\n",
              "      <td>...</td>\n",
              "      <td>...</td>\n",
              "      <td>...</td>\n",
              "      <td>...</td>\n",
              "      <td>...</td>\n",
              "      <td>...</td>\n",
              "      <td>...</td>\n",
              "      <td>...</td>\n",
              "      <td>...</td>\n",
              "      <td>...</td>\n",
              "    </tr>\n",
              "    <tr>\n",
              "      <th>608</th>\n",
              "      <td>2014</td>\n",
              "      <td>1</td>\n",
              "      <td>11215</td>\n",
              "      <td>광진구</td>\n",
              "      <td>LL</td>\n",
              "      <td>다이나믹</td>\n",
              "      <td>89</td>\n",
              "      <td>44</td>\n",
              "      <td>91</td>\n",
              "      <td>44</td>\n",
              "    </tr>\n",
              "    <tr>\n",
              "      <th>609</th>\n",
              "      <td>2014</td>\n",
              "      <td>1</td>\n",
              "      <td>11200</td>\n",
              "      <td>성동구</td>\n",
              "      <td>HH</td>\n",
              "      <td>정체</td>\n",
              "      <td>93</td>\n",
              "      <td>46</td>\n",
              "      <td>91</td>\n",
              "      <td>44</td>\n",
              "    </tr>\n",
              "    <tr>\n",
              "      <th>610</th>\n",
              "      <td>2014</td>\n",
              "      <td>1</td>\n",
              "      <td>11170</td>\n",
              "      <td>용산구</td>\n",
              "      <td>HH</td>\n",
              "      <td>정체</td>\n",
              "      <td>101</td>\n",
              "      <td>47</td>\n",
              "      <td>91</td>\n",
              "      <td>44</td>\n",
              "    </tr>\n",
              "    <tr>\n",
              "      <th>611</th>\n",
              "      <td>2014</td>\n",
              "      <td>1</td>\n",
              "      <td>11140</td>\n",
              "      <td>중구</td>\n",
              "      <td>HH</td>\n",
              "      <td>정체</td>\n",
              "      <td>114</td>\n",
              "      <td>49</td>\n",
              "      <td>91</td>\n",
              "      <td>44</td>\n",
              "    </tr>\n",
              "    <tr>\n",
              "      <th>612</th>\n",
              "      <td>2014</td>\n",
              "      <td>1</td>\n",
              "      <td>11110</td>\n",
              "      <td>종로구</td>\n",
              "      <td>HH</td>\n",
              "      <td>정체</td>\n",
              "      <td>109</td>\n",
              "      <td>51</td>\n",
              "      <td>91</td>\n",
              "      <td>44</td>\n",
              "    </tr>\n",
              "  </tbody>\n",
              "</table>\n",
              "<p>613 rows × 10 columns</p>\n",
              "</div>"
            ],
            "text/plain": [
              "     기준_년_코드  기준_분기_코드  시군구_코드  ... 폐업_영업_개월_평균 서울_운영_영업_개월_평균 서울_폐업_영업_개월_평균\n",
              "0       2019         4   11740  ...          50            110             54\n",
              "1       2019         4   11710  ...          53            110             54\n",
              "2       2019         4   11680  ...          50            110             54\n",
              "3       2019         4   11650  ...          54            110             54\n",
              "4       2019         4   11620  ...          52            110             54\n",
              "..       ...       ...     ...  ...         ...            ...            ...\n",
              "608     2014         1   11215  ...          44             91             44\n",
              "609     2014         1   11200  ...          46             91             44\n",
              "610     2014         1   11170  ...          47             91             44\n",
              "611     2014         1   11140  ...          49             91             44\n",
              "612     2014         1   11110  ...          51             91             44\n",
              "\n",
              "[613 rows x 10 columns]"
            ]
          },
          "metadata": {
            "tags": []
          },
          "execution_count": 19
        }
      ]
    },
    {
      "cell_type": "code",
      "metadata": {
        "id": "R0vVQLm8ySl3",
        "outputId": "1cbd9faa-cf25-4b1d-deda-e27c59f10a43",
        "colab": {
          "base_uri": "https://localhost:8080/",
          "height": 70
        }
      },
      "source": [
        "df['시군구_코드_명'].unique()   # 25개의 자치구"
      ],
      "execution_count": null,
      "outputs": [
        {
          "output_type": "execute_result",
          "data": {
            "text/plain": [
              "array(['강동구', '송파구', '강남구', '서초구', '관악구', '동작구', '영등포구', '금천구', '구로구',\n",
              "       '강서구', '양천구', '마포구', '서대문구', '은평구', '노원구', '도봉구', '강북구', '성북구',\n",
              "       '중랑구', '동대문구', '광진구', '성동구', '용산구', '중구', '종로구'], dtype=object)"
            ]
          },
          "metadata": {
            "tags": []
          },
          "execution_count": 20
        }
      ]
    },
    {
      "cell_type": "markdown",
      "metadata": {
        "id": "Whl2_k-occ2W"
      },
      "source": [
        "## 1. 데이터 전처리\n",
        "- 불필요한 컬럼, 예측에 방해되는 컬럼 제거\n",
        "- 텍스트 숫자로 변경\n",
        "- 의미있는 데이터 만들기\n",
        "- 컬럼명 변경\n",
        "- 결측치확인 및 제거"
      ]
    },
    {
      "cell_type": "code",
      "metadata": {
        "id": "7RDm57A1ZY7a",
        "outputId": "2f3ecf58-c3ed-4530-f472-3a3054c710c1",
        "colab": {
          "base_uri": "https://localhost:8080/",
          "height": 70
        }
      },
      "source": [
        "df.columns"
      ],
      "execution_count": null,
      "outputs": [
        {
          "output_type": "execute_result",
          "data": {
            "text/plain": [
              "Index(['기준_년_코드', '기준_분기_코드', '시군구_코드', '시군구_코드_명', '상권_변화_지표', '상권_변화_지표_명',\n",
              "       '운영_영업_개월_평균', '폐업_영업_개월_평균', '서울_운영_영업_개월_평균', '서울_폐업_영업_개월_평균'],\n",
              "      dtype='object')"
            ]
          },
          "metadata": {
            "tags": []
          },
          "execution_count": 21
        }
      ]
    },
    {
      "cell_type": "code",
      "metadata": {
        "id": "kmIZt71NcOqy"
      },
      "source": [
        "# 시군구 코드와 시군구 코드명은 같은 정보를 가지고 있으므로 둘 중 하나를 제거\n",
        "del df['시군구_코드_명']\n",
        "\n",
        "# 상권변화지표와 상권변화지표명은 같은 정보를 가지고 있으므로 둘 중 하나를 제거\n",
        "del df['상권_변화_지표']"
      ],
      "execution_count": null,
      "outputs": []
    },
    {
      "cell_type": "code",
      "metadata": {
        "id": "_uS3KqFseQmP",
        "outputId": "71d492b5-655d-47b4-f9d5-48234f31dbb9",
        "colab": {
          "base_uri": "https://localhost:8080/",
          "height": 194
        }
      },
      "source": [
        "df.head()"
      ],
      "execution_count": null,
      "outputs": [
        {
          "output_type": "execute_result",
          "data": {
            "text/html": [
              "<div>\n",
              "<style scoped>\n",
              "    .dataframe tbody tr th:only-of-type {\n",
              "        vertical-align: middle;\n",
              "    }\n",
              "\n",
              "    .dataframe tbody tr th {\n",
              "        vertical-align: top;\n",
              "    }\n",
              "\n",
              "    .dataframe thead th {\n",
              "        text-align: right;\n",
              "    }\n",
              "</style>\n",
              "<table border=\"1\" class=\"dataframe\">\n",
              "  <thead>\n",
              "    <tr style=\"text-align: right;\">\n",
              "      <th></th>\n",
              "      <th>기준_년_코드</th>\n",
              "      <th>기준_분기_코드</th>\n",
              "      <th>시군구_코드</th>\n",
              "      <th>상권_변화_지표_명</th>\n",
              "      <th>운영_영업_개월_평균</th>\n",
              "      <th>폐업_영업_개월_평균</th>\n",
              "      <th>서울_운영_영업_개월_평균</th>\n",
              "      <th>서울_폐업_영업_개월_평균</th>\n",
              "    </tr>\n",
              "  </thead>\n",
              "  <tbody>\n",
              "    <tr>\n",
              "      <th>0</th>\n",
              "      <td>2019</td>\n",
              "      <td>4</td>\n",
              "      <td>11740</td>\n",
              "      <td>다이나믹</td>\n",
              "      <td>105</td>\n",
              "      <td>50</td>\n",
              "      <td>110</td>\n",
              "      <td>54</td>\n",
              "    </tr>\n",
              "    <tr>\n",
              "      <th>1</th>\n",
              "      <td>2019</td>\n",
              "      <td>4</td>\n",
              "      <td>11710</td>\n",
              "      <td>다이나믹</td>\n",
              "      <td>110</td>\n",
              "      <td>53</td>\n",
              "      <td>110</td>\n",
              "      <td>54</td>\n",
              "    </tr>\n",
              "    <tr>\n",
              "      <th>2</th>\n",
              "      <td>2019</td>\n",
              "      <td>4</td>\n",
              "      <td>11680</td>\n",
              "      <td>다이나믹</td>\n",
              "      <td>106</td>\n",
              "      <td>50</td>\n",
              "      <td>110</td>\n",
              "      <td>54</td>\n",
              "    </tr>\n",
              "    <tr>\n",
              "      <th>3</th>\n",
              "      <td>2019</td>\n",
              "      <td>4</td>\n",
              "      <td>11650</td>\n",
              "      <td>정체</td>\n",
              "      <td>118</td>\n",
              "      <td>54</td>\n",
              "      <td>110</td>\n",
              "      <td>54</td>\n",
              "    </tr>\n",
              "    <tr>\n",
              "      <th>4</th>\n",
              "      <td>2019</td>\n",
              "      <td>4</td>\n",
              "      <td>11620</td>\n",
              "      <td>다이나믹</td>\n",
              "      <td>108</td>\n",
              "      <td>52</td>\n",
              "      <td>110</td>\n",
              "      <td>54</td>\n",
              "    </tr>\n",
              "  </tbody>\n",
              "</table>\n",
              "</div>"
            ],
            "text/plain": [
              "   기준_년_코드  기준_분기_코드  시군구_코드  ... 폐업_영업_개월_평균  서울_운영_영업_개월_평균  서울_폐업_영업_개월_평균\n",
              "0     2019         4   11740  ...          50             110              54\n",
              "1     2019         4   11710  ...          53             110              54\n",
              "2     2019         4   11680  ...          50             110              54\n",
              "3     2019         4   11650  ...          54             110              54\n",
              "4     2019         4   11620  ...          52             110              54\n",
              "\n",
              "[5 rows x 8 columns]"
            ]
          },
          "metadata": {
            "tags": []
          },
          "execution_count": 23
        }
      ]
    },
    {
      "cell_type": "markdown",
      "metadata": {
        "id": "Kwuajo-PefGa"
      },
      "source": [
        "* ['상권 변화지표명'] 컬럼 데이터를 숫자로 변경\n",
        "  - 상권 변화: 다이나믹(3) 상권확장(2) 상권축소(1) 정체(0)"
      ]
    },
    {
      "cell_type": "code",
      "metadata": {
        "id": "EvosLw3Zczwx",
        "outputId": "4136d7d2-be92-4b75-ff4f-896c1ef3a611",
        "colab": {
          "base_uri": "https://localhost:8080/",
          "height": 194
        }
      },
      "source": [
        "df['상권_변화_지표_명']=df['상권_변화_지표_명'].replace(['다이나믹','상권확장','상권축소','정체'],[3,2,1,0])\n",
        "df.head()"
      ],
      "execution_count": null,
      "outputs": [
        {
          "output_type": "execute_result",
          "data": {
            "text/html": [
              "<div>\n",
              "<style scoped>\n",
              "    .dataframe tbody tr th:only-of-type {\n",
              "        vertical-align: middle;\n",
              "    }\n",
              "\n",
              "    .dataframe tbody tr th {\n",
              "        vertical-align: top;\n",
              "    }\n",
              "\n",
              "    .dataframe thead th {\n",
              "        text-align: right;\n",
              "    }\n",
              "</style>\n",
              "<table border=\"1\" class=\"dataframe\">\n",
              "  <thead>\n",
              "    <tr style=\"text-align: right;\">\n",
              "      <th></th>\n",
              "      <th>기준_년_코드</th>\n",
              "      <th>기준_분기_코드</th>\n",
              "      <th>시군구_코드</th>\n",
              "      <th>상권_변화_지표_명</th>\n",
              "      <th>운영_영업_개월_평균</th>\n",
              "      <th>폐업_영업_개월_평균</th>\n",
              "      <th>서울_운영_영업_개월_평균</th>\n",
              "      <th>서울_폐업_영업_개월_평균</th>\n",
              "    </tr>\n",
              "  </thead>\n",
              "  <tbody>\n",
              "    <tr>\n",
              "      <th>0</th>\n",
              "      <td>2019</td>\n",
              "      <td>4</td>\n",
              "      <td>11740</td>\n",
              "      <td>3</td>\n",
              "      <td>105</td>\n",
              "      <td>50</td>\n",
              "      <td>110</td>\n",
              "      <td>54</td>\n",
              "    </tr>\n",
              "    <tr>\n",
              "      <th>1</th>\n",
              "      <td>2019</td>\n",
              "      <td>4</td>\n",
              "      <td>11710</td>\n",
              "      <td>3</td>\n",
              "      <td>110</td>\n",
              "      <td>53</td>\n",
              "      <td>110</td>\n",
              "      <td>54</td>\n",
              "    </tr>\n",
              "    <tr>\n",
              "      <th>2</th>\n",
              "      <td>2019</td>\n",
              "      <td>4</td>\n",
              "      <td>11680</td>\n",
              "      <td>3</td>\n",
              "      <td>106</td>\n",
              "      <td>50</td>\n",
              "      <td>110</td>\n",
              "      <td>54</td>\n",
              "    </tr>\n",
              "    <tr>\n",
              "      <th>3</th>\n",
              "      <td>2019</td>\n",
              "      <td>4</td>\n",
              "      <td>11650</td>\n",
              "      <td>0</td>\n",
              "      <td>118</td>\n",
              "      <td>54</td>\n",
              "      <td>110</td>\n",
              "      <td>54</td>\n",
              "    </tr>\n",
              "    <tr>\n",
              "      <th>4</th>\n",
              "      <td>2019</td>\n",
              "      <td>4</td>\n",
              "      <td>11620</td>\n",
              "      <td>3</td>\n",
              "      <td>108</td>\n",
              "      <td>52</td>\n",
              "      <td>110</td>\n",
              "      <td>54</td>\n",
              "    </tr>\n",
              "  </tbody>\n",
              "</table>\n",
              "</div>"
            ],
            "text/plain": [
              "   기준_년_코드  기준_분기_코드  시군구_코드  ...  폐업_영업_개월_평균  서울_운영_영업_개월_평균  서울_폐업_영업_개월_평균\n",
              "0     2019         4   11740  ...           50             110              54\n",
              "1     2019         4   11710  ...           53             110              54\n",
              "2     2019         4   11680  ...           50             110              54\n",
              "3     2019         4   11650  ...           54             110              54\n",
              "4     2019         4   11620  ...           52             110              54\n",
              "\n",
              "[5 rows x 8 columns]"
            ]
          },
          "metadata": {
            "tags": []
          },
          "execution_count": 24
        }
      ]
    },
    {
      "cell_type": "markdown",
      "metadata": {
        "id": "5QjARjhbgmvv"
      },
      "source": [
        "- ['운영_영업_개월_평균']와\t['폐업_영업_개월_평균'] 를 이용해 의미있는 데이터 컬럼 만들기\n",
        "\n",
        "  - 서울 대비 해당 도시의 영업개월 평균\n",
        "  - 서울 대비 해당 도시의 폐업개월 평균\n"
      ]
    },
    {
      "cell_type": "code",
      "metadata": {
        "id": "5oFCRH4qgUlj",
        "outputId": "cea5b1ce-ec57-44b5-c2ea-5cabf1ce7df9",
        "colab": {
          "base_uri": "https://localhost:8080/",
          "height": 124
        }
      },
      "source": [
        "df['서울 대비 운영 영업개월 평균']=df['운영_영업_개월_평균']/df['서울_운영_영업_개월_평균']\n",
        "df['서울 대비 운영 영업개월 평균'].head()"
      ],
      "execution_count": null,
      "outputs": [
        {
          "output_type": "execute_result",
          "data": {
            "text/plain": [
              "0    0.954545\n",
              "1    1.000000\n",
              "2    0.963636\n",
              "3    1.072727\n",
              "4    0.981818\n",
              "Name: 서울 대비 운영 영업개월 평균, dtype: float64"
            ]
          },
          "metadata": {
            "tags": []
          },
          "execution_count": 25
        }
      ]
    },
    {
      "cell_type": "code",
      "metadata": {
        "id": "4cfKeheZhK83",
        "outputId": "a80ce10b-01b1-4874-8029-61e947b1386c",
        "colab": {
          "base_uri": "https://localhost:8080/",
          "height": 124
        }
      },
      "source": [
        "df['서울 대비 폐업 영업개월 평균']=df['폐업_영업_개월_평균']/df['서울_폐업_영업_개월_평균']\n",
        "df['서울 대비 폐업 영업개월 평균'].head()"
      ],
      "execution_count": null,
      "outputs": [
        {
          "output_type": "execute_result",
          "data": {
            "text/plain": [
              "0    0.925926\n",
              "1    0.981481\n",
              "2    0.925926\n",
              "3    1.000000\n",
              "4    0.962963\n",
              "Name: 서울 대비 폐업 영업개월 평균, dtype: float64"
            ]
          },
          "metadata": {
            "tags": []
          },
          "execution_count": 26
        }
      ]
    },
    {
      "cell_type": "code",
      "metadata": {
        "id": "BErCoJc4hZ0D",
        "outputId": "dc8b0a77-7523-4c0f-ec20-108b91818c47",
        "colab": {
          "base_uri": "https://localhost:8080/",
          "height": 211
        }
      },
      "source": [
        "df.head()"
      ],
      "execution_count": null,
      "outputs": [
        {
          "output_type": "execute_result",
          "data": {
            "text/html": [
              "<div>\n",
              "<style scoped>\n",
              "    .dataframe tbody tr th:only-of-type {\n",
              "        vertical-align: middle;\n",
              "    }\n",
              "\n",
              "    .dataframe tbody tr th {\n",
              "        vertical-align: top;\n",
              "    }\n",
              "\n",
              "    .dataframe thead th {\n",
              "        text-align: right;\n",
              "    }\n",
              "</style>\n",
              "<table border=\"1\" class=\"dataframe\">\n",
              "  <thead>\n",
              "    <tr style=\"text-align: right;\">\n",
              "      <th></th>\n",
              "      <th>기준_년_코드</th>\n",
              "      <th>기준_분기_코드</th>\n",
              "      <th>시군구_코드</th>\n",
              "      <th>상권_변화_지표_명</th>\n",
              "      <th>운영_영업_개월_평균</th>\n",
              "      <th>폐업_영업_개월_평균</th>\n",
              "      <th>서울_운영_영업_개월_평균</th>\n",
              "      <th>서울_폐업_영업_개월_평균</th>\n",
              "      <th>서울 대비 운영 영업개월 평균</th>\n",
              "      <th>서울 대비 폐업 영업개월 평균</th>\n",
              "    </tr>\n",
              "  </thead>\n",
              "  <tbody>\n",
              "    <tr>\n",
              "      <th>0</th>\n",
              "      <td>2019</td>\n",
              "      <td>4</td>\n",
              "      <td>11740</td>\n",
              "      <td>3</td>\n",
              "      <td>105</td>\n",
              "      <td>50</td>\n",
              "      <td>110</td>\n",
              "      <td>54</td>\n",
              "      <td>0.954545</td>\n",
              "      <td>0.925926</td>\n",
              "    </tr>\n",
              "    <tr>\n",
              "      <th>1</th>\n",
              "      <td>2019</td>\n",
              "      <td>4</td>\n",
              "      <td>11710</td>\n",
              "      <td>3</td>\n",
              "      <td>110</td>\n",
              "      <td>53</td>\n",
              "      <td>110</td>\n",
              "      <td>54</td>\n",
              "      <td>1.000000</td>\n",
              "      <td>0.981481</td>\n",
              "    </tr>\n",
              "    <tr>\n",
              "      <th>2</th>\n",
              "      <td>2019</td>\n",
              "      <td>4</td>\n",
              "      <td>11680</td>\n",
              "      <td>3</td>\n",
              "      <td>106</td>\n",
              "      <td>50</td>\n",
              "      <td>110</td>\n",
              "      <td>54</td>\n",
              "      <td>0.963636</td>\n",
              "      <td>0.925926</td>\n",
              "    </tr>\n",
              "    <tr>\n",
              "      <th>3</th>\n",
              "      <td>2019</td>\n",
              "      <td>4</td>\n",
              "      <td>11650</td>\n",
              "      <td>0</td>\n",
              "      <td>118</td>\n",
              "      <td>54</td>\n",
              "      <td>110</td>\n",
              "      <td>54</td>\n",
              "      <td>1.072727</td>\n",
              "      <td>1.000000</td>\n",
              "    </tr>\n",
              "    <tr>\n",
              "      <th>4</th>\n",
              "      <td>2019</td>\n",
              "      <td>4</td>\n",
              "      <td>11620</td>\n",
              "      <td>3</td>\n",
              "      <td>108</td>\n",
              "      <td>52</td>\n",
              "      <td>110</td>\n",
              "      <td>54</td>\n",
              "      <td>0.981818</td>\n",
              "      <td>0.962963</td>\n",
              "    </tr>\n",
              "  </tbody>\n",
              "</table>\n",
              "</div>"
            ],
            "text/plain": [
              "   기준_년_코드  기준_분기_코드  ...  서울 대비 운영 영업개월 평균  서울 대비 폐업 영업개월 평균\n",
              "0     2019         4  ...          0.954545          0.925926\n",
              "1     2019         4  ...          1.000000          0.981481\n",
              "2     2019         4  ...          0.963636          0.925926\n",
              "3     2019         4  ...          1.072727          1.000000\n",
              "4     2019         4  ...          0.981818          0.962963\n",
              "\n",
              "[5 rows x 10 columns]"
            ]
          },
          "metadata": {
            "tags": []
          },
          "execution_count": 27
        }
      ]
    },
    {
      "cell_type": "code",
      "metadata": {
        "id": "6q5gnDONhZ79",
        "outputId": "f2ce7917-44a2-4b8a-ad33-3ed131faba27",
        "colab": {
          "base_uri": "https://localhost:8080/",
          "height": 194
        }
      },
      "source": [
        "del df['서울_운영_영업_개월_평균']\n",
        "del df['서울_폐업_영업_개월_평균']\n",
        "df.head()"
      ],
      "execution_count": null,
      "outputs": [
        {
          "output_type": "execute_result",
          "data": {
            "text/html": [
              "<div>\n",
              "<style scoped>\n",
              "    .dataframe tbody tr th:only-of-type {\n",
              "        vertical-align: middle;\n",
              "    }\n",
              "\n",
              "    .dataframe tbody tr th {\n",
              "        vertical-align: top;\n",
              "    }\n",
              "\n",
              "    .dataframe thead th {\n",
              "        text-align: right;\n",
              "    }\n",
              "</style>\n",
              "<table border=\"1\" class=\"dataframe\">\n",
              "  <thead>\n",
              "    <tr style=\"text-align: right;\">\n",
              "      <th></th>\n",
              "      <th>기준_년_코드</th>\n",
              "      <th>기준_분기_코드</th>\n",
              "      <th>시군구_코드</th>\n",
              "      <th>상권_변화_지표_명</th>\n",
              "      <th>운영_영업_개월_평균</th>\n",
              "      <th>폐업_영업_개월_평균</th>\n",
              "      <th>서울 대비 운영 영업개월 평균</th>\n",
              "      <th>서울 대비 폐업 영업개월 평균</th>\n",
              "    </tr>\n",
              "  </thead>\n",
              "  <tbody>\n",
              "    <tr>\n",
              "      <th>0</th>\n",
              "      <td>2019</td>\n",
              "      <td>4</td>\n",
              "      <td>11740</td>\n",
              "      <td>3</td>\n",
              "      <td>105</td>\n",
              "      <td>50</td>\n",
              "      <td>0.954545</td>\n",
              "      <td>0.925926</td>\n",
              "    </tr>\n",
              "    <tr>\n",
              "      <th>1</th>\n",
              "      <td>2019</td>\n",
              "      <td>4</td>\n",
              "      <td>11710</td>\n",
              "      <td>3</td>\n",
              "      <td>110</td>\n",
              "      <td>53</td>\n",
              "      <td>1.000000</td>\n",
              "      <td>0.981481</td>\n",
              "    </tr>\n",
              "    <tr>\n",
              "      <th>2</th>\n",
              "      <td>2019</td>\n",
              "      <td>4</td>\n",
              "      <td>11680</td>\n",
              "      <td>3</td>\n",
              "      <td>106</td>\n",
              "      <td>50</td>\n",
              "      <td>0.963636</td>\n",
              "      <td>0.925926</td>\n",
              "    </tr>\n",
              "    <tr>\n",
              "      <th>3</th>\n",
              "      <td>2019</td>\n",
              "      <td>4</td>\n",
              "      <td>11650</td>\n",
              "      <td>0</td>\n",
              "      <td>118</td>\n",
              "      <td>54</td>\n",
              "      <td>1.072727</td>\n",
              "      <td>1.000000</td>\n",
              "    </tr>\n",
              "    <tr>\n",
              "      <th>4</th>\n",
              "      <td>2019</td>\n",
              "      <td>4</td>\n",
              "      <td>11620</td>\n",
              "      <td>3</td>\n",
              "      <td>108</td>\n",
              "      <td>52</td>\n",
              "      <td>0.981818</td>\n",
              "      <td>0.962963</td>\n",
              "    </tr>\n",
              "  </tbody>\n",
              "</table>\n",
              "</div>"
            ],
            "text/plain": [
              "   기준_년_코드  기준_분기_코드  시군구_코드  ...  폐업_영업_개월_평균  서울 대비 운영 영업개월 평균  서울 대비 폐업 영업개월 평균\n",
              "0     2019         4   11740  ...           50          0.954545          0.925926\n",
              "1     2019         4   11710  ...           53          1.000000          0.981481\n",
              "2     2019         4   11680  ...           50          0.963636          0.925926\n",
              "3     2019         4   11650  ...           54          1.072727          1.000000\n",
              "4     2019         4   11620  ...           52          0.981818          0.962963\n",
              "\n",
              "[5 rows x 8 columns]"
            ]
          },
          "metadata": {
            "tags": []
          },
          "execution_count": 28
        }
      ]
    },
    {
      "cell_type": "code",
      "metadata": {
        "id": "x26LwR_yfTci",
        "outputId": "bb914404-14d3-49c2-ce2b-d067e7565b92",
        "colab": {
          "base_uri": "https://localhost:8080/",
          "height": 194
        }
      },
      "source": [
        "# 컬럼명 변경\n",
        "\n",
        "df.columns=['year','quarter','city','Commercial change','Operating months','Closing months', 'Operating months_Average', 'Closing months_Average']\n",
        "df.head()"
      ],
      "execution_count": null,
      "outputs": [
        {
          "output_type": "execute_result",
          "data": {
            "text/html": [
              "<div>\n",
              "<style scoped>\n",
              "    .dataframe tbody tr th:only-of-type {\n",
              "        vertical-align: middle;\n",
              "    }\n",
              "\n",
              "    .dataframe tbody tr th {\n",
              "        vertical-align: top;\n",
              "    }\n",
              "\n",
              "    .dataframe thead th {\n",
              "        text-align: right;\n",
              "    }\n",
              "</style>\n",
              "<table border=\"1\" class=\"dataframe\">\n",
              "  <thead>\n",
              "    <tr style=\"text-align: right;\">\n",
              "      <th></th>\n",
              "      <th>year</th>\n",
              "      <th>quarter</th>\n",
              "      <th>city</th>\n",
              "      <th>Commercial change</th>\n",
              "      <th>Operating months</th>\n",
              "      <th>Closing months</th>\n",
              "      <th>Operating months_Average</th>\n",
              "      <th>Closing months_Average</th>\n",
              "    </tr>\n",
              "  </thead>\n",
              "  <tbody>\n",
              "    <tr>\n",
              "      <th>0</th>\n",
              "      <td>2019</td>\n",
              "      <td>4</td>\n",
              "      <td>11740</td>\n",
              "      <td>3</td>\n",
              "      <td>105</td>\n",
              "      <td>50</td>\n",
              "      <td>0.954545</td>\n",
              "      <td>0.925926</td>\n",
              "    </tr>\n",
              "    <tr>\n",
              "      <th>1</th>\n",
              "      <td>2019</td>\n",
              "      <td>4</td>\n",
              "      <td>11710</td>\n",
              "      <td>3</td>\n",
              "      <td>110</td>\n",
              "      <td>53</td>\n",
              "      <td>1.000000</td>\n",
              "      <td>0.981481</td>\n",
              "    </tr>\n",
              "    <tr>\n",
              "      <th>2</th>\n",
              "      <td>2019</td>\n",
              "      <td>4</td>\n",
              "      <td>11680</td>\n",
              "      <td>3</td>\n",
              "      <td>106</td>\n",
              "      <td>50</td>\n",
              "      <td>0.963636</td>\n",
              "      <td>0.925926</td>\n",
              "    </tr>\n",
              "    <tr>\n",
              "      <th>3</th>\n",
              "      <td>2019</td>\n",
              "      <td>4</td>\n",
              "      <td>11650</td>\n",
              "      <td>0</td>\n",
              "      <td>118</td>\n",
              "      <td>54</td>\n",
              "      <td>1.072727</td>\n",
              "      <td>1.000000</td>\n",
              "    </tr>\n",
              "    <tr>\n",
              "      <th>4</th>\n",
              "      <td>2019</td>\n",
              "      <td>4</td>\n",
              "      <td>11620</td>\n",
              "      <td>3</td>\n",
              "      <td>108</td>\n",
              "      <td>52</td>\n",
              "      <td>0.981818</td>\n",
              "      <td>0.962963</td>\n",
              "    </tr>\n",
              "  </tbody>\n",
              "</table>\n",
              "</div>"
            ],
            "text/plain": [
              "   year  quarter  ...  Operating months_Average  Closing months_Average\n",
              "0  2019        4  ...                  0.954545                0.925926\n",
              "1  2019        4  ...                  1.000000                0.981481\n",
              "2  2019        4  ...                  0.963636                0.925926\n",
              "3  2019        4  ...                  1.072727                1.000000\n",
              "4  2019        4  ...                  0.981818                0.962963\n",
              "\n",
              "[5 rows x 8 columns]"
            ]
          },
          "metadata": {
            "tags": []
          },
          "execution_count": 29
        }
      ]
    },
    {
      "cell_type": "code",
      "metadata": {
        "id": "pVJVqfVEYwrh",
        "outputId": "025e7564-dcde-4400-a6d5-0b3170e6612a",
        "colab": {
          "base_uri": "https://localhost:8080/",
          "height": 177
        }
      },
      "source": [
        "# 결측치는 없다.\n",
        "\n",
        "df.isna().sum()"
      ],
      "execution_count": null,
      "outputs": [
        {
          "output_type": "execute_result",
          "data": {
            "text/plain": [
              "year                        0\n",
              "quarter                     0\n",
              "city                        0\n",
              "Commercial change           0\n",
              "Operating months            0\n",
              "Closing months              0\n",
              "Operating months_Average    0\n",
              "Closing months_Average      0\n",
              "dtype: int64"
            ]
          },
          "metadata": {
            "tags": []
          },
          "execution_count": 30
        }
      ]
    },
    {
      "cell_type": "markdown",
      "metadata": {
        "id": "xVPx-q2WlM1f"
      },
      "source": [
        "## 2. data split & 파일만들기\n",
        "\n",
        "- train.csv\n",
        "- test.csv\n",
        "- solution.csv\n",
        "- submission.csv"
      ]
    },
    {
      "cell_type": "markdown",
      "metadata": {
        "id": "EW-oNVdnyytY"
      },
      "source": [
        "- x와 labeled data(y)로 나누기"
      ]
    },
    {
      "cell_type": "code",
      "metadata": {
        "id": "DFD7iKk1mAnk"
      },
      "source": [
        "xy_data=df.copy()\n",
        "\n",
        "y_data=xy_data['Commercial change']\n",
        "\n",
        "del xy_data['Commercial change']\n",
        "x_data=xy_data"
      ],
      "execution_count": null,
      "outputs": []
    },
    {
      "cell_type": "code",
      "metadata": {
        "id": "Sx1GQs30m_zV",
        "outputId": "42d70007-bc74-4107-e577-3c5f2e1055cc",
        "colab": {
          "base_uri": "https://localhost:8080/",
          "height": 194
        }
      },
      "source": [
        "x_data.head()"
      ],
      "execution_count": null,
      "outputs": [
        {
          "output_type": "execute_result",
          "data": {
            "text/html": [
              "<div>\n",
              "<style scoped>\n",
              "    .dataframe tbody tr th:only-of-type {\n",
              "        vertical-align: middle;\n",
              "    }\n",
              "\n",
              "    .dataframe tbody tr th {\n",
              "        vertical-align: top;\n",
              "    }\n",
              "\n",
              "    .dataframe thead th {\n",
              "        text-align: right;\n",
              "    }\n",
              "</style>\n",
              "<table border=\"1\" class=\"dataframe\">\n",
              "  <thead>\n",
              "    <tr style=\"text-align: right;\">\n",
              "      <th></th>\n",
              "      <th>year</th>\n",
              "      <th>quarter</th>\n",
              "      <th>city</th>\n",
              "      <th>Operating months</th>\n",
              "      <th>Closing months</th>\n",
              "      <th>Operating months_Average</th>\n",
              "      <th>Closing months_Average</th>\n",
              "    </tr>\n",
              "  </thead>\n",
              "  <tbody>\n",
              "    <tr>\n",
              "      <th>0</th>\n",
              "      <td>2019</td>\n",
              "      <td>4</td>\n",
              "      <td>11740</td>\n",
              "      <td>105</td>\n",
              "      <td>50</td>\n",
              "      <td>0.954545</td>\n",
              "      <td>0.925926</td>\n",
              "    </tr>\n",
              "    <tr>\n",
              "      <th>1</th>\n",
              "      <td>2019</td>\n",
              "      <td>4</td>\n",
              "      <td>11710</td>\n",
              "      <td>110</td>\n",
              "      <td>53</td>\n",
              "      <td>1.000000</td>\n",
              "      <td>0.981481</td>\n",
              "    </tr>\n",
              "    <tr>\n",
              "      <th>2</th>\n",
              "      <td>2019</td>\n",
              "      <td>4</td>\n",
              "      <td>11680</td>\n",
              "      <td>106</td>\n",
              "      <td>50</td>\n",
              "      <td>0.963636</td>\n",
              "      <td>0.925926</td>\n",
              "    </tr>\n",
              "    <tr>\n",
              "      <th>3</th>\n",
              "      <td>2019</td>\n",
              "      <td>4</td>\n",
              "      <td>11650</td>\n",
              "      <td>118</td>\n",
              "      <td>54</td>\n",
              "      <td>1.072727</td>\n",
              "      <td>1.000000</td>\n",
              "    </tr>\n",
              "    <tr>\n",
              "      <th>4</th>\n",
              "      <td>2019</td>\n",
              "      <td>4</td>\n",
              "      <td>11620</td>\n",
              "      <td>108</td>\n",
              "      <td>52</td>\n",
              "      <td>0.981818</td>\n",
              "      <td>0.962963</td>\n",
              "    </tr>\n",
              "  </tbody>\n",
              "</table>\n",
              "</div>"
            ],
            "text/plain": [
              "   year  quarter  ...  Operating months_Average  Closing months_Average\n",
              "0  2019        4  ...                  0.954545                0.925926\n",
              "1  2019        4  ...                  1.000000                0.981481\n",
              "2  2019        4  ...                  0.963636                0.925926\n",
              "3  2019        4  ...                  1.072727                1.000000\n",
              "4  2019        4  ...                  0.981818                0.962963\n",
              "\n",
              "[5 rows x 7 columns]"
            ]
          },
          "metadata": {
            "tags": []
          },
          "execution_count": 32
        }
      ]
    },
    {
      "cell_type": "code",
      "metadata": {
        "id": "tsyw3lPhn4SX",
        "outputId": "9c62e599-707f-4688-e03c-32f7e43f31f4",
        "colab": {
          "base_uri": "https://localhost:8080/",
          "height": 124
        }
      },
      "source": [
        "y_data.head()"
      ],
      "execution_count": null,
      "outputs": [
        {
          "output_type": "execute_result",
          "data": {
            "text/plain": [
              "0    3\n",
              "1    3\n",
              "2    3\n",
              "3    0\n",
              "4    3\n",
              "Name: Commercial change, dtype: int64"
            ]
          },
          "metadata": {
            "tags": []
          },
          "execution_count": 33
        }
      ]
    },
    {
      "cell_type": "markdown",
      "metadata": {
        "id": "eZRcwY0vzCe8"
      },
      "source": [
        "- train과 test셋 나누기"
      ]
    },
    {
      "cell_type": "code",
      "metadata": {
        "id": "rtUI4-TPi-zb"
      },
      "source": [
        "from sklearn import model_selection\n",
        "from sklearn.model_selection import train_test_split\n",
        "\n",
        "x_data=np.array(x_data)\n",
        "y_data=np.array(y_data)\n",
        "\n",
        "x_train, x_test, y_train, y_test = model_selection.train_test_split(x_data,y_data,test_size=0.1, random_state=0)"
      ],
      "execution_count": null,
      "outputs": []
    },
    {
      "cell_type": "code",
      "metadata": {
        "id": "UzXvP52mn5il",
        "outputId": "3a14f174-1d7f-4734-89a8-347bd135497b",
        "colab": {
          "base_uri": "https://localhost:8080/",
          "height": 248
        }
      },
      "source": [
        "x_train"
      ],
      "execution_count": null,
      "outputs": [
        {
          "output_type": "execute_result",
          "data": {
            "text/plain": [
              "array([[2.01600000e+03, 1.00000000e+00, 1.12900000e+04, ...,\n",
              "        5.10000000e+01, 1.03125000e+00, 1.06250000e+00],\n",
              "       [2.01900000e+03, 4.00000000e+00, 1.12900000e+04, ...,\n",
              "        5.60000000e+01, 1.00909091e+00, 1.03703704e+00],\n",
              "       [2.01500000e+03, 4.00000000e+00, 1.13800000e+04, ...,\n",
              "        4.80000000e+01, 9.68421053e-01, 1.00000000e+00],\n",
              "       ...,\n",
              "       [2.01600000e+03, 3.00000000e+00, 1.12000000e+04, ...,\n",
              "        5.10000000e+01, 9.89583333e-01, 1.04081633e+00],\n",
              "       [2.01800000e+03, 1.00000000e+00, 1.16200000e+04, ...,\n",
              "        5.00000000e+01, 9.90000000e-01, 1.00000000e+00],\n",
              "       [2.01400000e+03, 3.00000000e+00, 1.12000000e+04, ...,\n",
              "        4.70000000e+01, 1.01075269e+00, 1.04444444e+00]])"
            ]
          },
          "metadata": {
            "tags": []
          },
          "execution_count": 35
        }
      ]
    },
    {
      "cell_type": "code",
      "metadata": {
        "id": "CLR78BpYo6hn",
        "outputId": "ae87aa47-7d2e-4166-f9c7-2b3f20aa40fd",
        "colab": {
          "base_uri": "https://localhost:8080/",
          "height": 35
        }
      },
      "source": [
        "len(y_train)"
      ],
      "execution_count": null,
      "outputs": [
        {
          "output_type": "execute_result",
          "data": {
            "text/plain": [
              "551"
            ]
          },
          "metadata": {
            "tags": []
          },
          "execution_count": 36
        }
      ]
    },
    {
      "cell_type": "code",
      "metadata": {
        "id": "51aLI48SuDeu",
        "outputId": "c5462e62-53be-4446-f67d-0ec92599faee",
        "colab": {
          "base_uri": "https://localhost:8080/",
          "height": 248
        }
      },
      "source": [
        "y_train=y_train.reshape(-1,1)\n",
        "\n",
        "train=np.hstack([x_train, y_train])\n",
        "train"
      ],
      "execution_count": null,
      "outputs": [
        {
          "output_type": "execute_result",
          "data": {
            "text/plain": [
              "array([[2.01600000e+03, 1.00000000e+00, 1.12900000e+04, ...,\n",
              "        1.03125000e+00, 1.06250000e+00, 0.00000000e+00],\n",
              "       [2.01900000e+03, 4.00000000e+00, 1.12900000e+04, ...,\n",
              "        1.00909091e+00, 1.03703704e+00, 0.00000000e+00],\n",
              "       [2.01500000e+03, 4.00000000e+00, 1.13800000e+04, ...,\n",
              "        9.68421053e-01, 1.00000000e+00, 2.00000000e+00],\n",
              "       ...,\n",
              "       [2.01600000e+03, 3.00000000e+00, 1.12000000e+04, ...,\n",
              "        9.89583333e-01, 1.04081633e+00, 2.00000000e+00],\n",
              "       [2.01800000e+03, 1.00000000e+00, 1.16200000e+04, ...,\n",
              "        9.90000000e-01, 1.00000000e+00, 3.00000000e+00],\n",
              "       [2.01400000e+03, 3.00000000e+00, 1.12000000e+04, ...,\n",
              "        1.01075269e+00, 1.04444444e+00, 0.00000000e+00]])"
            ]
          },
          "metadata": {
            "tags": []
          },
          "execution_count": 37
        }
      ]
    },
    {
      "cell_type": "code",
      "metadata": {
        "id": "4L-C9hkIrx4w",
        "outputId": "76318558-6f1f-4a21-d6e1-3500ce36fa6c",
        "colab": {
          "base_uri": "https://localhost:8080/",
          "height": 399
        }
      },
      "source": [
        "train=pd.DataFrame(train,columns=['year','quarter','city','Operating months','Closing months', 'Operating months_Average', 'Closing months_Average','Commercial change'])\n",
        "train"
      ],
      "execution_count": null,
      "outputs": [
        {
          "output_type": "execute_result",
          "data": {
            "text/html": [
              "<div>\n",
              "<style scoped>\n",
              "    .dataframe tbody tr th:only-of-type {\n",
              "        vertical-align: middle;\n",
              "    }\n",
              "\n",
              "    .dataframe tbody tr th {\n",
              "        vertical-align: top;\n",
              "    }\n",
              "\n",
              "    .dataframe thead th {\n",
              "        text-align: right;\n",
              "    }\n",
              "</style>\n",
              "<table border=\"1\" class=\"dataframe\">\n",
              "  <thead>\n",
              "    <tr style=\"text-align: right;\">\n",
              "      <th></th>\n",
              "      <th>year</th>\n",
              "      <th>quarter</th>\n",
              "      <th>city</th>\n",
              "      <th>Operating months</th>\n",
              "      <th>Closing months</th>\n",
              "      <th>Operating months_Average</th>\n",
              "      <th>Closing months_Average</th>\n",
              "      <th>Commercial change</th>\n",
              "    </tr>\n",
              "  </thead>\n",
              "  <tbody>\n",
              "    <tr>\n",
              "      <th>0</th>\n",
              "      <td>2016.0</td>\n",
              "      <td>1.0</td>\n",
              "      <td>11290.0</td>\n",
              "      <td>99.0</td>\n",
              "      <td>51.0</td>\n",
              "      <td>1.031250</td>\n",
              "      <td>1.062500</td>\n",
              "      <td>0.0</td>\n",
              "    </tr>\n",
              "    <tr>\n",
              "      <th>1</th>\n",
              "      <td>2019.0</td>\n",
              "      <td>4.0</td>\n",
              "      <td>11290.0</td>\n",
              "      <td>111.0</td>\n",
              "      <td>56.0</td>\n",
              "      <td>1.009091</td>\n",
              "      <td>1.037037</td>\n",
              "      <td>0.0</td>\n",
              "    </tr>\n",
              "    <tr>\n",
              "      <th>2</th>\n",
              "      <td>2015.0</td>\n",
              "      <td>4.0</td>\n",
              "      <td>11380.0</td>\n",
              "      <td>92.0</td>\n",
              "      <td>48.0</td>\n",
              "      <td>0.968421</td>\n",
              "      <td>1.000000</td>\n",
              "      <td>2.0</td>\n",
              "    </tr>\n",
              "    <tr>\n",
              "      <th>3</th>\n",
              "      <td>2019.0</td>\n",
              "      <td>4.0</td>\n",
              "      <td>11200.0</td>\n",
              "      <td>105.0</td>\n",
              "      <td>57.0</td>\n",
              "      <td>0.954545</td>\n",
              "      <td>1.055556</td>\n",
              "      <td>2.0</td>\n",
              "    </tr>\n",
              "    <tr>\n",
              "      <th>4</th>\n",
              "      <td>2014.0</td>\n",
              "      <td>2.0</td>\n",
              "      <td>11260.0</td>\n",
              "      <td>91.0</td>\n",
              "      <td>42.0</td>\n",
              "      <td>0.989130</td>\n",
              "      <td>0.933333</td>\n",
              "      <td>3.0</td>\n",
              "    </tr>\n",
              "    <tr>\n",
              "      <th>...</th>\n",
              "      <td>...</td>\n",
              "      <td>...</td>\n",
              "      <td>...</td>\n",
              "      <td>...</td>\n",
              "      <td>...</td>\n",
              "      <td>...</td>\n",
              "      <td>...</td>\n",
              "      <td>...</td>\n",
              "    </tr>\n",
              "    <tr>\n",
              "      <th>546</th>\n",
              "      <td>2017.0</td>\n",
              "      <td>2.0</td>\n",
              "      <td>11350.0</td>\n",
              "      <td>91.0</td>\n",
              "      <td>48.0</td>\n",
              "      <td>0.938144</td>\n",
              "      <td>0.960000</td>\n",
              "      <td>3.0</td>\n",
              "    </tr>\n",
              "    <tr>\n",
              "      <th>547</th>\n",
              "      <td>2019.0</td>\n",
              "      <td>4.0</td>\n",
              "      <td>11500.0</td>\n",
              "      <td>94.0</td>\n",
              "      <td>50.0</td>\n",
              "      <td>0.854545</td>\n",
              "      <td>0.925926</td>\n",
              "      <td>3.0</td>\n",
              "    </tr>\n",
              "    <tr>\n",
              "      <th>548</th>\n",
              "      <td>2016.0</td>\n",
              "      <td>3.0</td>\n",
              "      <td>11200.0</td>\n",
              "      <td>95.0</td>\n",
              "      <td>51.0</td>\n",
              "      <td>0.989583</td>\n",
              "      <td>1.040816</td>\n",
              "      <td>2.0</td>\n",
              "    </tr>\n",
              "    <tr>\n",
              "      <th>549</th>\n",
              "      <td>2018.0</td>\n",
              "      <td>1.0</td>\n",
              "      <td>11620.0</td>\n",
              "      <td>99.0</td>\n",
              "      <td>50.0</td>\n",
              "      <td>0.990000</td>\n",
              "      <td>1.000000</td>\n",
              "      <td>3.0</td>\n",
              "    </tr>\n",
              "    <tr>\n",
              "      <th>550</th>\n",
              "      <td>2014.0</td>\n",
              "      <td>3.0</td>\n",
              "      <td>11200.0</td>\n",
              "      <td>94.0</td>\n",
              "      <td>47.0</td>\n",
              "      <td>1.010753</td>\n",
              "      <td>1.044444</td>\n",
              "      <td>0.0</td>\n",
              "    </tr>\n",
              "  </tbody>\n",
              "</table>\n",
              "<p>551 rows × 8 columns</p>\n",
              "</div>"
            ],
            "text/plain": [
              "       year  quarter  ...  Closing months_Average  Commercial change\n",
              "0    2016.0      1.0  ...                1.062500                0.0\n",
              "1    2019.0      4.0  ...                1.037037                0.0\n",
              "2    2015.0      4.0  ...                1.000000                2.0\n",
              "3    2019.0      4.0  ...                1.055556                2.0\n",
              "4    2014.0      2.0  ...                0.933333                3.0\n",
              "..      ...      ...  ...                     ...                ...\n",
              "546  2017.0      2.0  ...                0.960000                3.0\n",
              "547  2019.0      4.0  ...                0.925926                3.0\n",
              "548  2016.0      3.0  ...                1.040816                2.0\n",
              "549  2018.0      1.0  ...                1.000000                3.0\n",
              "550  2014.0      3.0  ...                1.044444                0.0\n",
              "\n",
              "[551 rows x 8 columns]"
            ]
          },
          "metadata": {
            "tags": []
          },
          "execution_count": 38
        }
      ]
    },
    {
      "cell_type": "code",
      "metadata": {
        "id": "ZV6icR6jsQPf",
        "outputId": "95d1c153-1ed0-44b2-a0c5-b56435ce73b1",
        "colab": {
          "base_uri": "https://localhost:8080/",
          "height": 177
        }
      },
      "source": [
        "train.dtypes"
      ],
      "execution_count": null,
      "outputs": [
        {
          "output_type": "execute_result",
          "data": {
            "text/plain": [
              "year                        float64\n",
              "quarter                     float64\n",
              "city                        float64\n",
              "Operating months            float64\n",
              "Closing months              float64\n",
              "Operating months_Average    float64\n",
              "Closing months_Average      float64\n",
              "Commercial change           float64\n",
              "dtype: object"
            ]
          },
          "metadata": {
            "tags": []
          },
          "execution_count": 39
        }
      ]
    },
    {
      "cell_type": "code",
      "metadata": {
        "id": "wfhuWADkwRHc",
        "outputId": "9e8bccc8-f7aa-42c4-f51f-9c979270fe4b",
        "colab": {
          "base_uri": "https://localhost:8080/",
          "height": 399
        }
      },
      "source": [
        "train=train.astype({'year':int,\n",
        "                    'quarter':int,\n",
        "                    'city':int,\n",
        "                    'Operating months':int,\n",
        "                    'Closing months':int,\n",
        "                    'Commercial change':int})\n",
        "train"
      ],
      "execution_count": null,
      "outputs": [
        {
          "output_type": "execute_result",
          "data": {
            "text/html": [
              "<div>\n",
              "<style scoped>\n",
              "    .dataframe tbody tr th:only-of-type {\n",
              "        vertical-align: middle;\n",
              "    }\n",
              "\n",
              "    .dataframe tbody tr th {\n",
              "        vertical-align: top;\n",
              "    }\n",
              "\n",
              "    .dataframe thead th {\n",
              "        text-align: right;\n",
              "    }\n",
              "</style>\n",
              "<table border=\"1\" class=\"dataframe\">\n",
              "  <thead>\n",
              "    <tr style=\"text-align: right;\">\n",
              "      <th></th>\n",
              "      <th>year</th>\n",
              "      <th>quarter</th>\n",
              "      <th>city</th>\n",
              "      <th>Operating months</th>\n",
              "      <th>Closing months</th>\n",
              "      <th>Operating months_Average</th>\n",
              "      <th>Closing months_Average</th>\n",
              "      <th>Commercial change</th>\n",
              "    </tr>\n",
              "  </thead>\n",
              "  <tbody>\n",
              "    <tr>\n",
              "      <th>0</th>\n",
              "      <td>2016</td>\n",
              "      <td>1</td>\n",
              "      <td>11290</td>\n",
              "      <td>99</td>\n",
              "      <td>51</td>\n",
              "      <td>1.031250</td>\n",
              "      <td>1.062500</td>\n",
              "      <td>0</td>\n",
              "    </tr>\n",
              "    <tr>\n",
              "      <th>1</th>\n",
              "      <td>2019</td>\n",
              "      <td>4</td>\n",
              "      <td>11290</td>\n",
              "      <td>111</td>\n",
              "      <td>56</td>\n",
              "      <td>1.009091</td>\n",
              "      <td>1.037037</td>\n",
              "      <td>0</td>\n",
              "    </tr>\n",
              "    <tr>\n",
              "      <th>2</th>\n",
              "      <td>2015</td>\n",
              "      <td>4</td>\n",
              "      <td>11380</td>\n",
              "      <td>92</td>\n",
              "      <td>48</td>\n",
              "      <td>0.968421</td>\n",
              "      <td>1.000000</td>\n",
              "      <td>2</td>\n",
              "    </tr>\n",
              "    <tr>\n",
              "      <th>3</th>\n",
              "      <td>2019</td>\n",
              "      <td>4</td>\n",
              "      <td>11200</td>\n",
              "      <td>105</td>\n",
              "      <td>57</td>\n",
              "      <td>0.954545</td>\n",
              "      <td>1.055556</td>\n",
              "      <td>2</td>\n",
              "    </tr>\n",
              "    <tr>\n",
              "      <th>4</th>\n",
              "      <td>2014</td>\n",
              "      <td>2</td>\n",
              "      <td>11260</td>\n",
              "      <td>91</td>\n",
              "      <td>42</td>\n",
              "      <td>0.989130</td>\n",
              "      <td>0.933333</td>\n",
              "      <td>3</td>\n",
              "    </tr>\n",
              "    <tr>\n",
              "      <th>...</th>\n",
              "      <td>...</td>\n",
              "      <td>...</td>\n",
              "      <td>...</td>\n",
              "      <td>...</td>\n",
              "      <td>...</td>\n",
              "      <td>...</td>\n",
              "      <td>...</td>\n",
              "      <td>...</td>\n",
              "    </tr>\n",
              "    <tr>\n",
              "      <th>546</th>\n",
              "      <td>2017</td>\n",
              "      <td>2</td>\n",
              "      <td>11350</td>\n",
              "      <td>91</td>\n",
              "      <td>48</td>\n",
              "      <td>0.938144</td>\n",
              "      <td>0.960000</td>\n",
              "      <td>3</td>\n",
              "    </tr>\n",
              "    <tr>\n",
              "      <th>547</th>\n",
              "      <td>2019</td>\n",
              "      <td>4</td>\n",
              "      <td>11500</td>\n",
              "      <td>94</td>\n",
              "      <td>50</td>\n",
              "      <td>0.854545</td>\n",
              "      <td>0.925926</td>\n",
              "      <td>3</td>\n",
              "    </tr>\n",
              "    <tr>\n",
              "      <th>548</th>\n",
              "      <td>2016</td>\n",
              "      <td>3</td>\n",
              "      <td>11200</td>\n",
              "      <td>95</td>\n",
              "      <td>51</td>\n",
              "      <td>0.989583</td>\n",
              "      <td>1.040816</td>\n",
              "      <td>2</td>\n",
              "    </tr>\n",
              "    <tr>\n",
              "      <th>549</th>\n",
              "      <td>2018</td>\n",
              "      <td>1</td>\n",
              "      <td>11620</td>\n",
              "      <td>99</td>\n",
              "      <td>50</td>\n",
              "      <td>0.990000</td>\n",
              "      <td>1.000000</td>\n",
              "      <td>3</td>\n",
              "    </tr>\n",
              "    <tr>\n",
              "      <th>550</th>\n",
              "      <td>2014</td>\n",
              "      <td>3</td>\n",
              "      <td>11200</td>\n",
              "      <td>94</td>\n",
              "      <td>47</td>\n",
              "      <td>1.010753</td>\n",
              "      <td>1.044444</td>\n",
              "      <td>0</td>\n",
              "    </tr>\n",
              "  </tbody>\n",
              "</table>\n",
              "<p>551 rows × 8 columns</p>\n",
              "</div>"
            ],
            "text/plain": [
              "     year  quarter  ...  Closing months_Average  Commercial change\n",
              "0    2016        1  ...                1.062500                  0\n",
              "1    2019        4  ...                1.037037                  0\n",
              "2    2015        4  ...                1.000000                  2\n",
              "3    2019        4  ...                1.055556                  2\n",
              "4    2014        2  ...                0.933333                  3\n",
              "..    ...      ...  ...                     ...                ...\n",
              "546  2017        2  ...                0.960000                  3\n",
              "547  2019        4  ...                0.925926                  3\n",
              "548  2016        3  ...                1.040816                  2\n",
              "549  2018        1  ...                1.000000                  3\n",
              "550  2014        3  ...                1.044444                  0\n",
              "\n",
              "[551 rows x 8 columns]"
            ]
          },
          "metadata": {
            "tags": []
          },
          "execution_count": 40
        }
      ]
    },
    {
      "cell_type": "code",
      "metadata": {
        "id": "AkS-tn21wn0d"
      },
      "source": [
        "train.to_csv('train.csv',index=False,header=True)"
      ],
      "execution_count": null,
      "outputs": []
    },
    {
      "cell_type": "code",
      "metadata": {
        "id": "wADbSnbuyocz",
        "outputId": "63ae4db7-7888-4a8e-c009-0750e69b03dd",
        "colab": {
          "base_uri": "https://localhost:8080/",
          "height": 399
        }
      },
      "source": [
        "train_dataset=pd.read_csv('train.csv')\n",
        "train_dataset"
      ],
      "execution_count": null,
      "outputs": [
        {
          "output_type": "execute_result",
          "data": {
            "text/html": [
              "<div>\n",
              "<style scoped>\n",
              "    .dataframe tbody tr th:only-of-type {\n",
              "        vertical-align: middle;\n",
              "    }\n",
              "\n",
              "    .dataframe tbody tr th {\n",
              "        vertical-align: top;\n",
              "    }\n",
              "\n",
              "    .dataframe thead th {\n",
              "        text-align: right;\n",
              "    }\n",
              "</style>\n",
              "<table border=\"1\" class=\"dataframe\">\n",
              "  <thead>\n",
              "    <tr style=\"text-align: right;\">\n",
              "      <th></th>\n",
              "      <th>year</th>\n",
              "      <th>quarter</th>\n",
              "      <th>city</th>\n",
              "      <th>Operating months</th>\n",
              "      <th>Closing months</th>\n",
              "      <th>Operating months_Average</th>\n",
              "      <th>Closing months_Average</th>\n",
              "      <th>Commercial change</th>\n",
              "    </tr>\n",
              "  </thead>\n",
              "  <tbody>\n",
              "    <tr>\n",
              "      <th>0</th>\n",
              "      <td>2016</td>\n",
              "      <td>1</td>\n",
              "      <td>11290</td>\n",
              "      <td>99</td>\n",
              "      <td>51</td>\n",
              "      <td>1.031250</td>\n",
              "      <td>1.062500</td>\n",
              "      <td>0</td>\n",
              "    </tr>\n",
              "    <tr>\n",
              "      <th>1</th>\n",
              "      <td>2019</td>\n",
              "      <td>4</td>\n",
              "      <td>11290</td>\n",
              "      <td>111</td>\n",
              "      <td>56</td>\n",
              "      <td>1.009091</td>\n",
              "      <td>1.037037</td>\n",
              "      <td>0</td>\n",
              "    </tr>\n",
              "    <tr>\n",
              "      <th>2</th>\n",
              "      <td>2015</td>\n",
              "      <td>4</td>\n",
              "      <td>11380</td>\n",
              "      <td>92</td>\n",
              "      <td>48</td>\n",
              "      <td>0.968421</td>\n",
              "      <td>1.000000</td>\n",
              "      <td>2</td>\n",
              "    </tr>\n",
              "    <tr>\n",
              "      <th>3</th>\n",
              "      <td>2019</td>\n",
              "      <td>4</td>\n",
              "      <td>11200</td>\n",
              "      <td>105</td>\n",
              "      <td>57</td>\n",
              "      <td>0.954545</td>\n",
              "      <td>1.055556</td>\n",
              "      <td>2</td>\n",
              "    </tr>\n",
              "    <tr>\n",
              "      <th>4</th>\n",
              "      <td>2014</td>\n",
              "      <td>2</td>\n",
              "      <td>11260</td>\n",
              "      <td>91</td>\n",
              "      <td>42</td>\n",
              "      <td>0.989130</td>\n",
              "      <td>0.933333</td>\n",
              "      <td>3</td>\n",
              "    </tr>\n",
              "    <tr>\n",
              "      <th>...</th>\n",
              "      <td>...</td>\n",
              "      <td>...</td>\n",
              "      <td>...</td>\n",
              "      <td>...</td>\n",
              "      <td>...</td>\n",
              "      <td>...</td>\n",
              "      <td>...</td>\n",
              "      <td>...</td>\n",
              "    </tr>\n",
              "    <tr>\n",
              "      <th>546</th>\n",
              "      <td>2017</td>\n",
              "      <td>2</td>\n",
              "      <td>11350</td>\n",
              "      <td>91</td>\n",
              "      <td>48</td>\n",
              "      <td>0.938144</td>\n",
              "      <td>0.960000</td>\n",
              "      <td>3</td>\n",
              "    </tr>\n",
              "    <tr>\n",
              "      <th>547</th>\n",
              "      <td>2019</td>\n",
              "      <td>4</td>\n",
              "      <td>11500</td>\n",
              "      <td>94</td>\n",
              "      <td>50</td>\n",
              "      <td>0.854545</td>\n",
              "      <td>0.925926</td>\n",
              "      <td>3</td>\n",
              "    </tr>\n",
              "    <tr>\n",
              "      <th>548</th>\n",
              "      <td>2016</td>\n",
              "      <td>3</td>\n",
              "      <td>11200</td>\n",
              "      <td>95</td>\n",
              "      <td>51</td>\n",
              "      <td>0.989583</td>\n",
              "      <td>1.040816</td>\n",
              "      <td>2</td>\n",
              "    </tr>\n",
              "    <tr>\n",
              "      <th>549</th>\n",
              "      <td>2018</td>\n",
              "      <td>1</td>\n",
              "      <td>11620</td>\n",
              "      <td>99</td>\n",
              "      <td>50</td>\n",
              "      <td>0.990000</td>\n",
              "      <td>1.000000</td>\n",
              "      <td>3</td>\n",
              "    </tr>\n",
              "    <tr>\n",
              "      <th>550</th>\n",
              "      <td>2014</td>\n",
              "      <td>3</td>\n",
              "      <td>11200</td>\n",
              "      <td>94</td>\n",
              "      <td>47</td>\n",
              "      <td>1.010753</td>\n",
              "      <td>1.044444</td>\n",
              "      <td>0</td>\n",
              "    </tr>\n",
              "  </tbody>\n",
              "</table>\n",
              "<p>551 rows × 8 columns</p>\n",
              "</div>"
            ],
            "text/plain": [
              "     year  quarter  ...  Closing months_Average  Commercial change\n",
              "0    2016        1  ...                1.062500                  0\n",
              "1    2019        4  ...                1.037037                  0\n",
              "2    2015        4  ...                1.000000                  2\n",
              "3    2019        4  ...                1.055556                  2\n",
              "4    2014        2  ...                0.933333                  3\n",
              "..    ...      ...  ...                     ...                ...\n",
              "546  2017        2  ...                0.960000                  3\n",
              "547  2019        4  ...                0.925926                  3\n",
              "548  2016        3  ...                1.040816                  2\n",
              "549  2018        1  ...                1.000000                  3\n",
              "550  2014        3  ...                1.044444                  0\n",
              "\n",
              "[551 rows x 8 columns]"
            ]
          },
          "metadata": {
            "tags": []
          },
          "execution_count": 42
        }
      ]
    },
    {
      "cell_type": "markdown",
      "metadata": {
        "id": "CbaAqmNezRde"
      },
      "source": [
        "- test.csv 만들기"
      ]
    },
    {
      "cell_type": "code",
      "metadata": {
        "id": "scELQA9Wz6fo",
        "outputId": "4befc09c-0c94-407a-934f-6ebb28de9411",
        "colab": {
          "base_uri": "https://localhost:8080/",
          "height": 35
        }
      },
      "source": [
        "x_test.shape"
      ],
      "execution_count": null,
      "outputs": [
        {
          "output_type": "execute_result",
          "data": {
            "text/plain": [
              "(62, 7)"
            ]
          },
          "metadata": {
            "tags": []
          },
          "execution_count": 43
        }
      ]
    },
    {
      "cell_type": "code",
      "metadata": {
        "id": "poahg3uf0atE",
        "outputId": "73e58ea5-38f4-484e-eccb-5e1f0dc34a22",
        "colab": {
          "base_uri": "https://localhost:8080/",
          "height": 399
        }
      },
      "source": [
        "test=pd.DataFrame(x_test,columns=['year','quarter','city','Operating months','Closing months', 'Operating months_Average', 'Closing months_Average'])\n",
        "test"
      ],
      "execution_count": null,
      "outputs": [
        {
          "output_type": "execute_result",
          "data": {
            "text/html": [
              "<div>\n",
              "<style scoped>\n",
              "    .dataframe tbody tr th:only-of-type {\n",
              "        vertical-align: middle;\n",
              "    }\n",
              "\n",
              "    .dataframe tbody tr th {\n",
              "        vertical-align: top;\n",
              "    }\n",
              "\n",
              "    .dataframe thead th {\n",
              "        text-align: right;\n",
              "    }\n",
              "</style>\n",
              "<table border=\"1\" class=\"dataframe\">\n",
              "  <thead>\n",
              "    <tr style=\"text-align: right;\">\n",
              "      <th></th>\n",
              "      <th>year</th>\n",
              "      <th>quarter</th>\n",
              "      <th>city</th>\n",
              "      <th>Operating months</th>\n",
              "      <th>Closing months</th>\n",
              "      <th>Operating months_Average</th>\n",
              "      <th>Closing months_Average</th>\n",
              "    </tr>\n",
              "  </thead>\n",
              "  <tbody>\n",
              "    <tr>\n",
              "      <th>0</th>\n",
              "      <td>2015.0</td>\n",
              "      <td>3.0</td>\n",
              "      <td>11320.0</td>\n",
              "      <td>89.0</td>\n",
              "      <td>45.0</td>\n",
              "      <td>0.936842</td>\n",
              "      <td>0.957447</td>\n",
              "    </tr>\n",
              "    <tr>\n",
              "      <th>1</th>\n",
              "      <td>2019.0</td>\n",
              "      <td>3.0</td>\n",
              "      <td>11140.0</td>\n",
              "      <td>134.0</td>\n",
              "      <td>62.0</td>\n",
              "      <td>1.229358</td>\n",
              "      <td>1.169811</td>\n",
              "    </tr>\n",
              "    <tr>\n",
              "      <th>2</th>\n",
              "      <td>2014.0</td>\n",
              "      <td>4.0</td>\n",
              "      <td>11170.0</td>\n",
              "      <td>103.0</td>\n",
              "      <td>49.0</td>\n",
              "      <td>1.095745</td>\n",
              "      <td>1.065217</td>\n",
              "    </tr>\n",
              "    <tr>\n",
              "      <th>3</th>\n",
              "      <td>2015.0</td>\n",
              "      <td>2.0</td>\n",
              "      <td>11590.0</td>\n",
              "      <td>97.0</td>\n",
              "      <td>49.0</td>\n",
              "      <td>1.021053</td>\n",
              "      <td>1.042553</td>\n",
              "    </tr>\n",
              "    <tr>\n",
              "      <th>4</th>\n",
              "      <td>2019.0</td>\n",
              "      <td>2.0</td>\n",
              "      <td>11710.0</td>\n",
              "      <td>98.0</td>\n",
              "      <td>49.0</td>\n",
              "      <td>0.933333</td>\n",
              "      <td>0.960784</td>\n",
              "    </tr>\n",
              "    <tr>\n",
              "      <th>...</th>\n",
              "      <td>...</td>\n",
              "      <td>...</td>\n",
              "      <td>...</td>\n",
              "      <td>...</td>\n",
              "      <td>...</td>\n",
              "      <td>...</td>\n",
              "      <td>...</td>\n",
              "    </tr>\n",
              "    <tr>\n",
              "      <th>57</th>\n",
              "      <td>2016.0</td>\n",
              "      <td>2.0</td>\n",
              "      <td>11680.0</td>\n",
              "      <td>86.0</td>\n",
              "      <td>45.0</td>\n",
              "      <td>0.905263</td>\n",
              "      <td>0.937500</td>\n",
              "    </tr>\n",
              "    <tr>\n",
              "      <th>58</th>\n",
              "      <td>2019.0</td>\n",
              "      <td>4.0</td>\n",
              "      <td>11530.0</td>\n",
              "      <td>110.0</td>\n",
              "      <td>52.0</td>\n",
              "      <td>1.000000</td>\n",
              "      <td>0.962963</td>\n",
              "    </tr>\n",
              "    <tr>\n",
              "      <th>59</th>\n",
              "      <td>2018.0</td>\n",
              "      <td>1.0</td>\n",
              "      <td>11560.0</td>\n",
              "      <td>105.0</td>\n",
              "      <td>50.0</td>\n",
              "      <td>1.050000</td>\n",
              "      <td>1.000000</td>\n",
              "    </tr>\n",
              "    <tr>\n",
              "      <th>60</th>\n",
              "      <td>2018.0</td>\n",
              "      <td>4.0</td>\n",
              "      <td>11500.0</td>\n",
              "      <td>89.0</td>\n",
              "      <td>48.0</td>\n",
              "      <td>0.872549</td>\n",
              "      <td>0.941176</td>\n",
              "    </tr>\n",
              "    <tr>\n",
              "      <th>61</th>\n",
              "      <td>2018.0</td>\n",
              "      <td>1.0</td>\n",
              "      <td>11170.0</td>\n",
              "      <td>110.0</td>\n",
              "      <td>54.0</td>\n",
              "      <td>1.100000</td>\n",
              "      <td>1.080000</td>\n",
              "    </tr>\n",
              "  </tbody>\n",
              "</table>\n",
              "<p>62 rows × 7 columns</p>\n",
              "</div>"
            ],
            "text/plain": [
              "      year  quarter  ...  Operating months_Average  Closing months_Average\n",
              "0   2015.0      3.0  ...                  0.936842                0.957447\n",
              "1   2019.0      3.0  ...                  1.229358                1.169811\n",
              "2   2014.0      4.0  ...                  1.095745                1.065217\n",
              "3   2015.0      2.0  ...                  1.021053                1.042553\n",
              "4   2019.0      2.0  ...                  0.933333                0.960784\n",
              "..     ...      ...  ...                       ...                     ...\n",
              "57  2016.0      2.0  ...                  0.905263                0.937500\n",
              "58  2019.0      4.0  ...                  1.000000                0.962963\n",
              "59  2018.0      1.0  ...                  1.050000                1.000000\n",
              "60  2018.0      4.0  ...                  0.872549                0.941176\n",
              "61  2018.0      1.0  ...                  1.100000                1.080000\n",
              "\n",
              "[62 rows x 7 columns]"
            ]
          },
          "metadata": {
            "tags": []
          },
          "execution_count": 44
        }
      ]
    },
    {
      "cell_type": "code",
      "metadata": {
        "id": "itD9p_T21Ox_",
        "outputId": "586d250f-81b4-47fe-fcfc-902aa5753489",
        "colab": {
          "base_uri": "https://localhost:8080/",
          "height": 399
        }
      },
      "source": [
        "test=test.astype({'year':int,\n",
        "                    'quarter':int,\n",
        "                    'city':int,\n",
        "                    'Operating months':int,\n",
        "                    'Closing months':int})\n",
        "test"
      ],
      "execution_count": null,
      "outputs": [
        {
          "output_type": "execute_result",
          "data": {
            "text/html": [
              "<div>\n",
              "<style scoped>\n",
              "    .dataframe tbody tr th:only-of-type {\n",
              "        vertical-align: middle;\n",
              "    }\n",
              "\n",
              "    .dataframe tbody tr th {\n",
              "        vertical-align: top;\n",
              "    }\n",
              "\n",
              "    .dataframe thead th {\n",
              "        text-align: right;\n",
              "    }\n",
              "</style>\n",
              "<table border=\"1\" class=\"dataframe\">\n",
              "  <thead>\n",
              "    <tr style=\"text-align: right;\">\n",
              "      <th></th>\n",
              "      <th>year</th>\n",
              "      <th>quarter</th>\n",
              "      <th>city</th>\n",
              "      <th>Operating months</th>\n",
              "      <th>Closing months</th>\n",
              "      <th>Operating months_Average</th>\n",
              "      <th>Closing months_Average</th>\n",
              "    </tr>\n",
              "  </thead>\n",
              "  <tbody>\n",
              "    <tr>\n",
              "      <th>0</th>\n",
              "      <td>2015</td>\n",
              "      <td>3</td>\n",
              "      <td>11320</td>\n",
              "      <td>89</td>\n",
              "      <td>45</td>\n",
              "      <td>0.936842</td>\n",
              "      <td>0.957447</td>\n",
              "    </tr>\n",
              "    <tr>\n",
              "      <th>1</th>\n",
              "      <td>2019</td>\n",
              "      <td>3</td>\n",
              "      <td>11140</td>\n",
              "      <td>134</td>\n",
              "      <td>62</td>\n",
              "      <td>1.229358</td>\n",
              "      <td>1.169811</td>\n",
              "    </tr>\n",
              "    <tr>\n",
              "      <th>2</th>\n",
              "      <td>2014</td>\n",
              "      <td>4</td>\n",
              "      <td>11170</td>\n",
              "      <td>103</td>\n",
              "      <td>49</td>\n",
              "      <td>1.095745</td>\n",
              "      <td>1.065217</td>\n",
              "    </tr>\n",
              "    <tr>\n",
              "      <th>3</th>\n",
              "      <td>2015</td>\n",
              "      <td>2</td>\n",
              "      <td>11590</td>\n",
              "      <td>97</td>\n",
              "      <td>49</td>\n",
              "      <td>1.021053</td>\n",
              "      <td>1.042553</td>\n",
              "    </tr>\n",
              "    <tr>\n",
              "      <th>4</th>\n",
              "      <td>2019</td>\n",
              "      <td>2</td>\n",
              "      <td>11710</td>\n",
              "      <td>98</td>\n",
              "      <td>49</td>\n",
              "      <td>0.933333</td>\n",
              "      <td>0.960784</td>\n",
              "    </tr>\n",
              "    <tr>\n",
              "      <th>...</th>\n",
              "      <td>...</td>\n",
              "      <td>...</td>\n",
              "      <td>...</td>\n",
              "      <td>...</td>\n",
              "      <td>...</td>\n",
              "      <td>...</td>\n",
              "      <td>...</td>\n",
              "    </tr>\n",
              "    <tr>\n",
              "      <th>57</th>\n",
              "      <td>2016</td>\n",
              "      <td>2</td>\n",
              "      <td>11680</td>\n",
              "      <td>86</td>\n",
              "      <td>45</td>\n",
              "      <td>0.905263</td>\n",
              "      <td>0.937500</td>\n",
              "    </tr>\n",
              "    <tr>\n",
              "      <th>58</th>\n",
              "      <td>2019</td>\n",
              "      <td>4</td>\n",
              "      <td>11530</td>\n",
              "      <td>110</td>\n",
              "      <td>52</td>\n",
              "      <td>1.000000</td>\n",
              "      <td>0.962963</td>\n",
              "    </tr>\n",
              "    <tr>\n",
              "      <th>59</th>\n",
              "      <td>2018</td>\n",
              "      <td>1</td>\n",
              "      <td>11560</td>\n",
              "      <td>105</td>\n",
              "      <td>50</td>\n",
              "      <td>1.050000</td>\n",
              "      <td>1.000000</td>\n",
              "    </tr>\n",
              "    <tr>\n",
              "      <th>60</th>\n",
              "      <td>2018</td>\n",
              "      <td>4</td>\n",
              "      <td>11500</td>\n",
              "      <td>89</td>\n",
              "      <td>48</td>\n",
              "      <td>0.872549</td>\n",
              "      <td>0.941176</td>\n",
              "    </tr>\n",
              "    <tr>\n",
              "      <th>61</th>\n",
              "      <td>2018</td>\n",
              "      <td>1</td>\n",
              "      <td>11170</td>\n",
              "      <td>110</td>\n",
              "      <td>54</td>\n",
              "      <td>1.100000</td>\n",
              "      <td>1.080000</td>\n",
              "    </tr>\n",
              "  </tbody>\n",
              "</table>\n",
              "<p>62 rows × 7 columns</p>\n",
              "</div>"
            ],
            "text/plain": [
              "    year  quarter  ...  Operating months_Average  Closing months_Average\n",
              "0   2015        3  ...                  0.936842                0.957447\n",
              "1   2019        3  ...                  1.229358                1.169811\n",
              "2   2014        4  ...                  1.095745                1.065217\n",
              "3   2015        2  ...                  1.021053                1.042553\n",
              "4   2019        2  ...                  0.933333                0.960784\n",
              "..   ...      ...  ...                       ...                     ...\n",
              "57  2016        2  ...                  0.905263                0.937500\n",
              "58  2019        4  ...                  1.000000                0.962963\n",
              "59  2018        1  ...                  1.050000                1.000000\n",
              "60  2018        4  ...                  0.872549                0.941176\n",
              "61  2018        1  ...                  1.100000                1.080000\n",
              "\n",
              "[62 rows x 7 columns]"
            ]
          },
          "metadata": {
            "tags": []
          },
          "execution_count": 45
        }
      ]
    },
    {
      "cell_type": "code",
      "metadata": {
        "id": "IJTELJ7A0a33"
      },
      "source": [
        "test.to_csv('test.csv',index=False,header=True)"
      ],
      "execution_count": null,
      "outputs": []
    },
    {
      "cell_type": "code",
      "metadata": {
        "id": "ycyV3MIR0a1C",
        "outputId": "17038b81-570c-4097-d7db-d54ecd9dc34d",
        "colab": {
          "base_uri": "https://localhost:8080/",
          "height": 399
        }
      },
      "source": [
        "test_dataset=pd.read_csv('test.csv')\n",
        "test_dataset"
      ],
      "execution_count": null,
      "outputs": [
        {
          "output_type": "execute_result",
          "data": {
            "text/html": [
              "<div>\n",
              "<style scoped>\n",
              "    .dataframe tbody tr th:only-of-type {\n",
              "        vertical-align: middle;\n",
              "    }\n",
              "\n",
              "    .dataframe tbody tr th {\n",
              "        vertical-align: top;\n",
              "    }\n",
              "\n",
              "    .dataframe thead th {\n",
              "        text-align: right;\n",
              "    }\n",
              "</style>\n",
              "<table border=\"1\" class=\"dataframe\">\n",
              "  <thead>\n",
              "    <tr style=\"text-align: right;\">\n",
              "      <th></th>\n",
              "      <th>year</th>\n",
              "      <th>quarter</th>\n",
              "      <th>city</th>\n",
              "      <th>Operating months</th>\n",
              "      <th>Closing months</th>\n",
              "      <th>Operating months_Average</th>\n",
              "      <th>Closing months_Average</th>\n",
              "    </tr>\n",
              "  </thead>\n",
              "  <tbody>\n",
              "    <tr>\n",
              "      <th>0</th>\n",
              "      <td>2015</td>\n",
              "      <td>3</td>\n",
              "      <td>11320</td>\n",
              "      <td>89</td>\n",
              "      <td>45</td>\n",
              "      <td>0.936842</td>\n",
              "      <td>0.957447</td>\n",
              "    </tr>\n",
              "    <tr>\n",
              "      <th>1</th>\n",
              "      <td>2019</td>\n",
              "      <td>3</td>\n",
              "      <td>11140</td>\n",
              "      <td>134</td>\n",
              "      <td>62</td>\n",
              "      <td>1.229358</td>\n",
              "      <td>1.169811</td>\n",
              "    </tr>\n",
              "    <tr>\n",
              "      <th>2</th>\n",
              "      <td>2014</td>\n",
              "      <td>4</td>\n",
              "      <td>11170</td>\n",
              "      <td>103</td>\n",
              "      <td>49</td>\n",
              "      <td>1.095745</td>\n",
              "      <td>1.065217</td>\n",
              "    </tr>\n",
              "    <tr>\n",
              "      <th>3</th>\n",
              "      <td>2015</td>\n",
              "      <td>2</td>\n",
              "      <td>11590</td>\n",
              "      <td>97</td>\n",
              "      <td>49</td>\n",
              "      <td>1.021053</td>\n",
              "      <td>1.042553</td>\n",
              "    </tr>\n",
              "    <tr>\n",
              "      <th>4</th>\n",
              "      <td>2019</td>\n",
              "      <td>2</td>\n",
              "      <td>11710</td>\n",
              "      <td>98</td>\n",
              "      <td>49</td>\n",
              "      <td>0.933333</td>\n",
              "      <td>0.960784</td>\n",
              "    </tr>\n",
              "    <tr>\n",
              "      <th>...</th>\n",
              "      <td>...</td>\n",
              "      <td>...</td>\n",
              "      <td>...</td>\n",
              "      <td>...</td>\n",
              "      <td>...</td>\n",
              "      <td>...</td>\n",
              "      <td>...</td>\n",
              "    </tr>\n",
              "    <tr>\n",
              "      <th>57</th>\n",
              "      <td>2016</td>\n",
              "      <td>2</td>\n",
              "      <td>11680</td>\n",
              "      <td>86</td>\n",
              "      <td>45</td>\n",
              "      <td>0.905263</td>\n",
              "      <td>0.937500</td>\n",
              "    </tr>\n",
              "    <tr>\n",
              "      <th>58</th>\n",
              "      <td>2019</td>\n",
              "      <td>4</td>\n",
              "      <td>11530</td>\n",
              "      <td>110</td>\n",
              "      <td>52</td>\n",
              "      <td>1.000000</td>\n",
              "      <td>0.962963</td>\n",
              "    </tr>\n",
              "    <tr>\n",
              "      <th>59</th>\n",
              "      <td>2018</td>\n",
              "      <td>1</td>\n",
              "      <td>11560</td>\n",
              "      <td>105</td>\n",
              "      <td>50</td>\n",
              "      <td>1.050000</td>\n",
              "      <td>1.000000</td>\n",
              "    </tr>\n",
              "    <tr>\n",
              "      <th>60</th>\n",
              "      <td>2018</td>\n",
              "      <td>4</td>\n",
              "      <td>11500</td>\n",
              "      <td>89</td>\n",
              "      <td>48</td>\n",
              "      <td>0.872549</td>\n",
              "      <td>0.941176</td>\n",
              "    </tr>\n",
              "    <tr>\n",
              "      <th>61</th>\n",
              "      <td>2018</td>\n",
              "      <td>1</td>\n",
              "      <td>11170</td>\n",
              "      <td>110</td>\n",
              "      <td>54</td>\n",
              "      <td>1.100000</td>\n",
              "      <td>1.080000</td>\n",
              "    </tr>\n",
              "  </tbody>\n",
              "</table>\n",
              "<p>62 rows × 7 columns</p>\n",
              "</div>"
            ],
            "text/plain": [
              "    year  quarter  ...  Operating months_Average  Closing months_Average\n",
              "0   2015        3  ...                  0.936842                0.957447\n",
              "1   2019        3  ...                  1.229358                1.169811\n",
              "2   2014        4  ...                  1.095745                1.065217\n",
              "3   2015        2  ...                  1.021053                1.042553\n",
              "4   2019        2  ...                  0.933333                0.960784\n",
              "..   ...      ...  ...                       ...                     ...\n",
              "57  2016        2  ...                  0.905263                0.937500\n",
              "58  2019        4  ...                  1.000000                0.962963\n",
              "59  2018        1  ...                  1.050000                1.000000\n",
              "60  2018        4  ...                  0.872549                0.941176\n",
              "61  2018        1  ...                  1.100000                1.080000\n",
              "\n",
              "[62 rows x 7 columns]"
            ]
          },
          "metadata": {
            "tags": []
          },
          "execution_count": 47
        }
      ]
    },
    {
      "cell_type": "markdown",
      "metadata": {
        "id": "RV1Jtyg0zqXI"
      },
      "source": [
        "- solution.csv : test데이터의 라벨값"
      ]
    },
    {
      "cell_type": "code",
      "metadata": {
        "id": "eLEldaIOzuG1",
        "outputId": "b8cd290f-1d72-4d9e-a431-6e53eaac3e36",
        "colab": {
          "base_uri": "https://localhost:8080/",
          "height": 70
        }
      },
      "source": [
        "y_test"
      ],
      "execution_count": null,
      "outputs": [
        {
          "output_type": "execute_result",
          "data": {
            "text/plain": [
              "array([3, 0, 0, 0, 3, 0, 0, 1, 3, 0, 0, 3, 3, 0, 3, 0, 3, 0, 0, 3, 0, 0,\n",
              "       0, 3, 0, 0, 3, 3, 0, 0, 0, 3, 0, 3, 3, 3, 1, 0, 3, 3, 1, 1, 3, 3,\n",
              "       0, 3, 3, 3, 3, 3, 0, 0, 3, 3, 2, 3, 3, 3, 3, 1, 3, 0])"
            ]
          },
          "metadata": {
            "tags": []
          },
          "execution_count": 48
        }
      ]
    },
    {
      "cell_type": "code",
      "metadata": {
        "id": "7bQ6nful1rna",
        "outputId": "775b2776-4c34-4700-c7d8-380e0bbf57fa",
        "colab": {
          "base_uri": "https://localhost:8080/",
          "height": 399
        }
      },
      "source": [
        "id=np.array([i for i in range(62)]).reshape(-1,1)\n",
        "y_test=y_test.reshape(-1,1)\n",
        "\n",
        "solution=np.hstack([id,y_test])\n",
        "\n",
        "solution=pd.DataFrame(solution,columns=['ID','Label'])\n",
        "solution"
      ],
      "execution_count": null,
      "outputs": [
        {
          "output_type": "execute_result",
          "data": {
            "text/html": [
              "<div>\n",
              "<style scoped>\n",
              "    .dataframe tbody tr th:only-of-type {\n",
              "        vertical-align: middle;\n",
              "    }\n",
              "\n",
              "    .dataframe tbody tr th {\n",
              "        vertical-align: top;\n",
              "    }\n",
              "\n",
              "    .dataframe thead th {\n",
              "        text-align: right;\n",
              "    }\n",
              "</style>\n",
              "<table border=\"1\" class=\"dataframe\">\n",
              "  <thead>\n",
              "    <tr style=\"text-align: right;\">\n",
              "      <th></th>\n",
              "      <th>ID</th>\n",
              "      <th>Label</th>\n",
              "    </tr>\n",
              "  </thead>\n",
              "  <tbody>\n",
              "    <tr>\n",
              "      <th>0</th>\n",
              "      <td>0</td>\n",
              "      <td>3</td>\n",
              "    </tr>\n",
              "    <tr>\n",
              "      <th>1</th>\n",
              "      <td>1</td>\n",
              "      <td>0</td>\n",
              "    </tr>\n",
              "    <tr>\n",
              "      <th>2</th>\n",
              "      <td>2</td>\n",
              "      <td>0</td>\n",
              "    </tr>\n",
              "    <tr>\n",
              "      <th>3</th>\n",
              "      <td>3</td>\n",
              "      <td>0</td>\n",
              "    </tr>\n",
              "    <tr>\n",
              "      <th>4</th>\n",
              "      <td>4</td>\n",
              "      <td>3</td>\n",
              "    </tr>\n",
              "    <tr>\n",
              "      <th>...</th>\n",
              "      <td>...</td>\n",
              "      <td>...</td>\n",
              "    </tr>\n",
              "    <tr>\n",
              "      <th>57</th>\n",
              "      <td>57</td>\n",
              "      <td>3</td>\n",
              "    </tr>\n",
              "    <tr>\n",
              "      <th>58</th>\n",
              "      <td>58</td>\n",
              "      <td>3</td>\n",
              "    </tr>\n",
              "    <tr>\n",
              "      <th>59</th>\n",
              "      <td>59</td>\n",
              "      <td>1</td>\n",
              "    </tr>\n",
              "    <tr>\n",
              "      <th>60</th>\n",
              "      <td>60</td>\n",
              "      <td>3</td>\n",
              "    </tr>\n",
              "    <tr>\n",
              "      <th>61</th>\n",
              "      <td>61</td>\n",
              "      <td>0</td>\n",
              "    </tr>\n",
              "  </tbody>\n",
              "</table>\n",
              "<p>62 rows × 2 columns</p>\n",
              "</div>"
            ],
            "text/plain": [
              "    ID  Label\n",
              "0    0      3\n",
              "1    1      0\n",
              "2    2      0\n",
              "3    3      0\n",
              "4    4      3\n",
              "..  ..    ...\n",
              "57  57      3\n",
              "58  58      3\n",
              "59  59      1\n",
              "60  60      3\n",
              "61  61      0\n",
              "\n",
              "[62 rows x 2 columns]"
            ]
          },
          "metadata": {
            "tags": []
          },
          "execution_count": 49
        }
      ]
    },
    {
      "cell_type": "code",
      "metadata": {
        "id": "0srStUA215kp"
      },
      "source": [
        "solution.to_csv('solution.csv',index=False,header=True)"
      ],
      "execution_count": null,
      "outputs": []
    },
    {
      "cell_type": "code",
      "metadata": {
        "id": "Gsoa6whg2dnn",
        "outputId": "192980a4-00b5-4dfc-d08f-3c5d663a8740",
        "colab": {
          "base_uri": "https://localhost:8080/",
          "height": 399
        }
      },
      "source": [
        "solution_data=pd.read_csv('solution.csv')\n",
        "solution_data"
      ],
      "execution_count": null,
      "outputs": [
        {
          "output_type": "execute_result",
          "data": {
            "text/html": [
              "<div>\n",
              "<style scoped>\n",
              "    .dataframe tbody tr th:only-of-type {\n",
              "        vertical-align: middle;\n",
              "    }\n",
              "\n",
              "    .dataframe tbody tr th {\n",
              "        vertical-align: top;\n",
              "    }\n",
              "\n",
              "    .dataframe thead th {\n",
              "        text-align: right;\n",
              "    }\n",
              "</style>\n",
              "<table border=\"1\" class=\"dataframe\">\n",
              "  <thead>\n",
              "    <tr style=\"text-align: right;\">\n",
              "      <th></th>\n",
              "      <th>ID</th>\n",
              "      <th>Label</th>\n",
              "    </tr>\n",
              "  </thead>\n",
              "  <tbody>\n",
              "    <tr>\n",
              "      <th>0</th>\n",
              "      <td>0</td>\n",
              "      <td>3</td>\n",
              "    </tr>\n",
              "    <tr>\n",
              "      <th>1</th>\n",
              "      <td>1</td>\n",
              "      <td>0</td>\n",
              "    </tr>\n",
              "    <tr>\n",
              "      <th>2</th>\n",
              "      <td>2</td>\n",
              "      <td>0</td>\n",
              "    </tr>\n",
              "    <tr>\n",
              "      <th>3</th>\n",
              "      <td>3</td>\n",
              "      <td>0</td>\n",
              "    </tr>\n",
              "    <tr>\n",
              "      <th>4</th>\n",
              "      <td>4</td>\n",
              "      <td>3</td>\n",
              "    </tr>\n",
              "    <tr>\n",
              "      <th>...</th>\n",
              "      <td>...</td>\n",
              "      <td>...</td>\n",
              "    </tr>\n",
              "    <tr>\n",
              "      <th>57</th>\n",
              "      <td>57</td>\n",
              "      <td>3</td>\n",
              "    </tr>\n",
              "    <tr>\n",
              "      <th>58</th>\n",
              "      <td>58</td>\n",
              "      <td>3</td>\n",
              "    </tr>\n",
              "    <tr>\n",
              "      <th>59</th>\n",
              "      <td>59</td>\n",
              "      <td>1</td>\n",
              "    </tr>\n",
              "    <tr>\n",
              "      <th>60</th>\n",
              "      <td>60</td>\n",
              "      <td>3</td>\n",
              "    </tr>\n",
              "    <tr>\n",
              "      <th>61</th>\n",
              "      <td>61</td>\n",
              "      <td>0</td>\n",
              "    </tr>\n",
              "  </tbody>\n",
              "</table>\n",
              "<p>62 rows × 2 columns</p>\n",
              "</div>"
            ],
            "text/plain": [
              "    ID  Label\n",
              "0    0      3\n",
              "1    1      0\n",
              "2    2      0\n",
              "3    3      0\n",
              "4    4      3\n",
              "..  ..    ...\n",
              "57  57      3\n",
              "58  58      3\n",
              "59  59      1\n",
              "60  60      3\n",
              "61  61      0\n",
              "\n",
              "[62 rows x 2 columns]"
            ]
          },
          "metadata": {
            "tags": []
          },
          "execution_count": 51
        }
      ]
    },
    {
      "cell_type": "markdown",
      "metadata": {
        "id": "klVilADi3Iun"
      },
      "source": [
        "- submission.csv 만들기"
      ]
    },
    {
      "cell_type": "code",
      "metadata": {
        "id": "yQ_QgeA823jq",
        "outputId": "7fdc3364-2fdb-49f5-cf17-6b267ded4b9c",
        "colab": {
          "base_uri": "https://localhost:8080/",
          "height": 399
        }
      },
      "source": [
        "id=np.array([i for i in range(62)]).reshape(-1,1)\n",
        "label=np.array([0 for i in range(62)]).reshape(-1,1)\n",
        "\n",
        "submit=np.hstack([id,label])\n",
        "\n",
        "submit=pd.DataFrame(submit,columns=['ID','Label'])\n",
        "submit"
      ],
      "execution_count": null,
      "outputs": [
        {
          "output_type": "execute_result",
          "data": {
            "text/html": [
              "<div>\n",
              "<style scoped>\n",
              "    .dataframe tbody tr th:only-of-type {\n",
              "        vertical-align: middle;\n",
              "    }\n",
              "\n",
              "    .dataframe tbody tr th {\n",
              "        vertical-align: top;\n",
              "    }\n",
              "\n",
              "    .dataframe thead th {\n",
              "        text-align: right;\n",
              "    }\n",
              "</style>\n",
              "<table border=\"1\" class=\"dataframe\">\n",
              "  <thead>\n",
              "    <tr style=\"text-align: right;\">\n",
              "      <th></th>\n",
              "      <th>ID</th>\n",
              "      <th>Label</th>\n",
              "    </tr>\n",
              "  </thead>\n",
              "  <tbody>\n",
              "    <tr>\n",
              "      <th>0</th>\n",
              "      <td>0</td>\n",
              "      <td>0</td>\n",
              "    </tr>\n",
              "    <tr>\n",
              "      <th>1</th>\n",
              "      <td>1</td>\n",
              "      <td>0</td>\n",
              "    </tr>\n",
              "    <tr>\n",
              "      <th>2</th>\n",
              "      <td>2</td>\n",
              "      <td>0</td>\n",
              "    </tr>\n",
              "    <tr>\n",
              "      <th>3</th>\n",
              "      <td>3</td>\n",
              "      <td>0</td>\n",
              "    </tr>\n",
              "    <tr>\n",
              "      <th>4</th>\n",
              "      <td>4</td>\n",
              "      <td>0</td>\n",
              "    </tr>\n",
              "    <tr>\n",
              "      <th>...</th>\n",
              "      <td>...</td>\n",
              "      <td>...</td>\n",
              "    </tr>\n",
              "    <tr>\n",
              "      <th>57</th>\n",
              "      <td>57</td>\n",
              "      <td>0</td>\n",
              "    </tr>\n",
              "    <tr>\n",
              "      <th>58</th>\n",
              "      <td>58</td>\n",
              "      <td>0</td>\n",
              "    </tr>\n",
              "    <tr>\n",
              "      <th>59</th>\n",
              "      <td>59</td>\n",
              "      <td>0</td>\n",
              "    </tr>\n",
              "    <tr>\n",
              "      <th>60</th>\n",
              "      <td>60</td>\n",
              "      <td>0</td>\n",
              "    </tr>\n",
              "    <tr>\n",
              "      <th>61</th>\n",
              "      <td>61</td>\n",
              "      <td>0</td>\n",
              "    </tr>\n",
              "  </tbody>\n",
              "</table>\n",
              "<p>62 rows × 2 columns</p>\n",
              "</div>"
            ],
            "text/plain": [
              "    ID  Label\n",
              "0    0      0\n",
              "1    1      0\n",
              "2    2      0\n",
              "3    3      0\n",
              "4    4      0\n",
              "..  ..    ...\n",
              "57  57      0\n",
              "58  58      0\n",
              "59  59      0\n",
              "60  60      0\n",
              "61  61      0\n",
              "\n",
              "[62 rows x 2 columns]"
            ]
          },
          "metadata": {
            "tags": []
          },
          "execution_count": 52
        }
      ]
    },
    {
      "cell_type": "code",
      "metadata": {
        "id": "63CjytlX2vcr"
      },
      "source": [
        "submit.to_csv('submit.csv',index=False,header=True)"
      ],
      "execution_count": null,
      "outputs": []
    },
    {
      "cell_type": "code",
      "metadata": {
        "id": "9wWWzYAf3oLT",
        "outputId": "62024ee2-0f9d-4ce1-8b7c-0eddf3f5818a",
        "colab": {
          "base_uri": "https://localhost:8080/",
          "height": 399
        }
      },
      "source": [
        "submit_file=pd.read_csv('submit.csv')\n",
        "submit_file"
      ],
      "execution_count": null,
      "outputs": [
        {
          "output_type": "execute_result",
          "data": {
            "text/html": [
              "<div>\n",
              "<style scoped>\n",
              "    .dataframe tbody tr th:only-of-type {\n",
              "        vertical-align: middle;\n",
              "    }\n",
              "\n",
              "    .dataframe tbody tr th {\n",
              "        vertical-align: top;\n",
              "    }\n",
              "\n",
              "    .dataframe thead th {\n",
              "        text-align: right;\n",
              "    }\n",
              "</style>\n",
              "<table border=\"1\" class=\"dataframe\">\n",
              "  <thead>\n",
              "    <tr style=\"text-align: right;\">\n",
              "      <th></th>\n",
              "      <th>ID</th>\n",
              "      <th>Label</th>\n",
              "    </tr>\n",
              "  </thead>\n",
              "  <tbody>\n",
              "    <tr>\n",
              "      <th>0</th>\n",
              "      <td>0</td>\n",
              "      <td>0</td>\n",
              "    </tr>\n",
              "    <tr>\n",
              "      <th>1</th>\n",
              "      <td>1</td>\n",
              "      <td>0</td>\n",
              "    </tr>\n",
              "    <tr>\n",
              "      <th>2</th>\n",
              "      <td>2</td>\n",
              "      <td>0</td>\n",
              "    </tr>\n",
              "    <tr>\n",
              "      <th>3</th>\n",
              "      <td>3</td>\n",
              "      <td>0</td>\n",
              "    </tr>\n",
              "    <tr>\n",
              "      <th>4</th>\n",
              "      <td>4</td>\n",
              "      <td>0</td>\n",
              "    </tr>\n",
              "    <tr>\n",
              "      <th>...</th>\n",
              "      <td>...</td>\n",
              "      <td>...</td>\n",
              "    </tr>\n",
              "    <tr>\n",
              "      <th>57</th>\n",
              "      <td>57</td>\n",
              "      <td>0</td>\n",
              "    </tr>\n",
              "    <tr>\n",
              "      <th>58</th>\n",
              "      <td>58</td>\n",
              "      <td>0</td>\n",
              "    </tr>\n",
              "    <tr>\n",
              "      <th>59</th>\n",
              "      <td>59</td>\n",
              "      <td>0</td>\n",
              "    </tr>\n",
              "    <tr>\n",
              "      <th>60</th>\n",
              "      <td>60</td>\n",
              "      <td>0</td>\n",
              "    </tr>\n",
              "    <tr>\n",
              "      <th>61</th>\n",
              "      <td>61</td>\n",
              "      <td>0</td>\n",
              "    </tr>\n",
              "  </tbody>\n",
              "</table>\n",
              "<p>62 rows × 2 columns</p>\n",
              "</div>"
            ],
            "text/plain": [
              "    ID  Label\n",
              "0    0      0\n",
              "1    1      0\n",
              "2    2      0\n",
              "3    3      0\n",
              "4    4      0\n",
              "..  ..    ...\n",
              "57  57      0\n",
              "58  58      0\n",
              "59  59      0\n",
              "60  60      0\n",
              "61  61      0\n",
              "\n",
              "[62 rows x 2 columns]"
            ]
          },
          "metadata": {
            "tags": []
          },
          "execution_count": 54
        }
      ]
    },
    {
      "cell_type": "code",
      "metadata": {
        "id": "S3udO1eL312b"
      },
      "source": [
        ""
      ],
      "execution_count": null,
      "outputs": []
    }
  ]
}