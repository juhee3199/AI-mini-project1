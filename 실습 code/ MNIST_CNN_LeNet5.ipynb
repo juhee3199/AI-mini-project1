{
  "nbformat": 4,
  "nbformat_minor": 0,
  "metadata": {
    "colab": {
      "name": "MNIST_CNN_LeNet5",
      "provenance": [],
      "collapsed_sections": [],
      "include_colab_link": true
    },
    "kernelspec": {
      "name": "python3",
      "display_name": "Python 3"
    },
    "accelerator": "GPU"
  },
  "cells": [
    {
      "cell_type": "markdown",
      "metadata": {
        "id": "view-in-github",
        "colab_type": "text"
      },
      "source": [
        "<a href=\"https://colab.research.google.com/github/juhee3199/AI-project/blob/master/%EC%8B%A4%EC%8A%B5%20code/%20MNIST_CNN_LeNet5.ipynb\" target=\"_parent\"><img src=\"https://colab.research.google.com/assets/colab-badge.svg\" alt=\"Open In Colab\"/></a>"
      ]
    },
    {
      "cell_type": "code",
      "metadata": {
        "id": "hZqtN_FBxeo8"
      },
      "source": [
        "import torch\n",
        "import torchvision.datasets as dsets\n",
        "import torchvision.transforms as transforms\n",
        "import torch.nn.init"
      ],
      "execution_count": null,
      "outputs": []
    },
    {
      "cell_type": "code",
      "metadata": {
        "id": "91zmIrLzxwIv"
      },
      "source": [
        "device = 'cuda' if torch.cuda.is_available() else 'cpu'\n",
        "\n",
        "torch.manual_seed(777)\n",
        "if device == 'cuda':\n",
        "    torch.cuda.manual_seed_all(777)"
      ],
      "execution_count": null,
      "outputs": []
    },
    {
      "cell_type": "code",
      "metadata": {
        "id": "56wj7BMUx0UR"
      },
      "source": [
        "# parameters\n",
        "learning_rate = 0.9\n",
        "training_epochs = 50\n",
        "batch_size = 256"
      ],
      "execution_count": null,
      "outputs": []
    },
    {
      "cell_type": "markdown",
      "metadata": {
        "id": "J0Qgu6kk7Emy"
      },
      "source": [
        "- Lenet 5의 입력이 32*32 이기 때문에 resize가 필요하다."
      ]
    },
    {
      "cell_type": "code",
      "metadata": {
        "id": "1C8qn_gS7JY2"
      },
      "source": [
        "# TorchVision의 MNIST 영상이 28x28로 가공되어 있어, Original 입력 사이즈 32x32로 맞추기 위해\n",
        "# import torchvision.transforms as transforms\n",
        "\n",
        "transforms = transforms.Compose([transforms.Resize((32, 32)),\n",
        "                                 transforms.ToTensor()])"
      ],
      "execution_count": null,
      "outputs": []
    },
    {
      "cell_type": "code",
      "metadata": {
        "id": "rGyVS6rtx1zA"
      },
      "source": [
        "\n",
        "# MNIST dataset\n",
        "# transform이 mnist_train & mnist_test에 반영되는게 아이라 train_loader & test_loader에서 반영되는 듯\n",
        "mnist_train = dsets.MNIST(root='MNIST_data/',\n",
        "                          train=True,\n",
        "                          transform=transforms,\n",
        "                          download=True)\n",
        "\n",
        "mnist_test = dsets.MNIST(root='MNIST_data/',\n",
        "                         train=False,\n",
        "                         transform=transforms,\n",
        "                         download=True)\n",
        "\n"
      ],
      "execution_count": null,
      "outputs": []
    },
    {
      "cell_type": "code",
      "metadata": {
        "id": "0JUl2jMex50I"
      },
      "source": [
        "# dataset loader\n",
        "train_loader = torch.utils.data.DataLoader(dataset=mnist_train,\n",
        "                                          batch_size=batch_size,\n",
        "                                          shuffle=True,\n",
        "                                          drop_last=True)\n",
        "\n",
        "test_loader = torch.utils.data.DataLoader(dataset=mnist_test,\n",
        "                                          batch_size=batch_size,\n",
        "                                          shuffle=True,\n",
        "                                          drop_last=True)\n"
      ],
      "execution_count": null,
      "outputs": []
    },
    {
      "cell_type": "markdown",
      "metadata": {
        "id": "E9uSfauv7TKz"
      },
      "source": [
        "- LeNet5의 discription을 보고 아래 코드 설계 (15주차 10p)\n"
      ]
    },
    {
      "cell_type": "code",
      "metadata": {
        "id": "tR_QoCV-GRvA"
      },
      "source": [
        "# sigmoid 사용 ver\n",
        "\n",
        "class LeNet5(torch.nn.Module):\n",
        "  def __init__(self):\n",
        "    super(LeNet5,self).__init__() \n",
        "                                                                      #32*32\n",
        "    self.c1 = torch.nn.Conv2d(1,6,kernel_size=5,stride=1,padding=0)   #28*28\n",
        "    self.x1 = torch.nn.Sigmoid()\n",
        "    #self.x1 = torch.nn.Tanh()\n",
        "    self.s2 = torch.nn.AvgPool2d(kernel_size=2,stride=2)              #14*14\n",
        "\n",
        "    self.c3 = torch.nn.Conv2d(6,16,kernel_size=5,stride=1,padding=0)  #10*10\n",
        "    self.x3 = torch.nn.Sigmoid()\n",
        "    self.s4 = torch.nn.AvgPool2d(kernel_size=2,stride=2)              #5*5\n",
        "\n",
        "# 3개의 fully connected layer ( C5, F6, output)\n",
        "\n",
        "    #self.c5 = torch.nn.Conv2d(16,120,kernel_size=5,stride=1,padding=0)\n",
        "    self.f5 = torch.nn.Linear(16*5*5,120,bias=True)\n",
        "    self.x5 = torch.nn.Sigmoid()\n",
        "    \n",
        "    self.f6 = torch.nn.Linear(120,84,bias=True)\n",
        "    self.x6 = torch.nn.Sigmoid()\n",
        "    \n",
        "    self.output = torch.nn.Linear(84,10,bias=True)\n",
        "\n",
        "\n",
        "  def forward(self,x):\n",
        "    out = self.c1(x)\n",
        "    out = self.x1(out)\n",
        "    out = self.s2(out)\n",
        "    out = self.c3(out)\n",
        "    out = self.x3(out)\n",
        "    out = self.s4(out)        \n",
        "\n",
        "    out = out.view(out.size(0),-1) # 1D로 변환. batch x 1 x 1 x 120  \n",
        "    out = self.f5(out)\n",
        "    out = self.x5(out)\n",
        "    out = self.f6(out)    \n",
        "    out = self.x6(out)\n",
        "    out = self.output(out)  \n",
        "\n",
        "    return out"
      ],
      "execution_count": null,
      "outputs": []
    },
    {
      "cell_type": "code",
      "metadata": {
        "id": "1RQXIYALCGqT"
      },
      "source": [
        "# tanh 사용 ver\n",
        "\n",
        "class LeNet5_(torch.nn.Module):\n",
        "  def __init__(self):\n",
        "    super(LeNet5_,self).__init__() \n",
        "\n",
        "    self.c1 = torch.nn.Conv2d(1,6,kernel_size=5,stride=1,padding=0)\n",
        "    self.x1 = torch.nn.Tanh()\n",
        "    self.s2 = torch.nn.AvgPool2d(kernel_size=2,stride=2)\n",
        "\n",
        "    self.c3 = torch.nn.Conv2d(6,16,kernel_size=5,stride=1,padding=0)\n",
        "    self.x3 = torch.nn.Tanh()\n",
        "    self.s4 = torch.nn.AvgPool2d(kernel_size=2,stride=2) \n",
        "\n",
        "    self.fl = torch.nn.Faltten()\n",
        "\n",
        "    self.f5 = torch.nn.Linear(16*5*5,120,bias=True)\n",
        "    self.x5 = torch.nn.Tanh()\n",
        "    \n",
        "    self.f6 = torch.nn.Linear(120,84,bias=True)\n",
        "    self.x6 = torch.nn.Tanh()\n",
        "    \n",
        "    self.output = torch.nn.Linear(84,10,bias=True)\n",
        "\n",
        "\n",
        "  def forward(self,x):\n",
        "    out = self.c1(x)\n",
        "    out = self.x1(out)\n",
        "    out = self.s2(out)\n",
        "    out = self.c3(out)\n",
        "    out = self.x3(out)\n",
        "    out = self.s4(out)        \n",
        "    out = out.view(out.size(0),-1) # batch x 1 x 1 x 120  \n",
        "    out = self.f5(out)\n",
        "    out = self.x5(out)\n",
        "    out = self.f6(out)    \n",
        "    out = self.x6(out)\n",
        "    out = self.output(out)  \n",
        "\n",
        "    return out"
      ],
      "execution_count": null,
      "outputs": []
    },
    {
      "cell_type": "code",
      "metadata": {
        "id": "S2mpSqfT5b-q"
      },
      "source": [
        "model = LeNet5().to(device)"
      ],
      "execution_count": null,
      "outputs": []
    },
    {
      "cell_type": "code",
      "metadata": {
        "id": "mRoFoX_GL6Kg"
      },
      "source": [
        "\n",
        "criterion = torch.nn.CrossEntropyLoss().to(device)   \n",
        "#optimizer = torch.optim.Adam(model.parameters(), lr=learning_rate) \n",
        "optimizer = torch.optim.SGD(model.parameters(), lr=learning_rate) "
      ],
      "execution_count": null,
      "outputs": []
    },
    {
      "cell_type": "code",
      "metadata": {
        "id": "VvtX6F8u-USV",
        "outputId": "0c89f961-c809-4a96-f7d9-de90a5800cec",
        "colab": {
          "base_uri": "https://localhost:8080/",
          "height": 941
        }
      },
      "source": [
        "\n",
        "#train my model\n",
        "total_batch = len(train_loader)\n",
        "print('Learning started. It takes sometime.')\n",
        "for epoch in range(training_epochs):\n",
        "    avg_cost = 0\n",
        "\n",
        "    for X, Y in train_loader:  \n",
        "        X = X.to(device)\n",
        "        Y = Y.to(device)\n",
        "\n",
        "        optimizer.zero_grad()\n",
        "        hypothesis = model(X)\n",
        "        cost = criterion(hypothesis, Y)\n",
        "        cost.backward()\n",
        "        optimizer.step()\n",
        "\n",
        "        avg_cost += cost / total_batch\n",
        "\n",
        "    print('[Epoch: {:>4}] cost = {:>.9}'.format(epoch + 1, avg_cost))\n",
        "\n",
        "print('Learning Finished!')"
      ],
      "execution_count": null,
      "outputs": [
        {
          "output_type": "stream",
          "text": [
            "Learning started. It takes sometime.\n",
            "[Epoch:    1] cost = 2.31528282\n",
            "[Epoch:    2] cost = 2.30350852\n",
            "[Epoch:    3] cost = 2.30266261\n",
            "[Epoch:    4] cost = 2.30256438\n",
            "[Epoch:    5] cost = 2.30229187\n",
            "[Epoch:    6] cost = 2.30218005\n",
            "[Epoch:    7] cost = 2.30205131\n",
            "[Epoch:    8] cost = 2.30189776\n",
            "[Epoch:    9] cost = 2.30148029\n",
            "[Epoch:   10] cost = 2.30139041\n",
            "[Epoch:   11] cost = 2.30023575\n",
            "[Epoch:   12] cost = 2.27036929\n",
            "[Epoch:   13] cost = 1.80259049\n",
            "[Epoch:   14] cost = 0.801855922\n",
            "[Epoch:   15] cost = 0.441283524\n",
            "[Epoch:   16] cost = 0.291419446\n",
            "[Epoch:   17] cost = 0.221858129\n",
            "[Epoch:   18] cost = 0.175194353\n",
            "[Epoch:   19] cost = 0.15169993\n",
            "[Epoch:   20] cost = 0.128243178\n",
            "[Epoch:   21] cost = 0.114277944\n",
            "[Epoch:   22] cost = 0.0995416418\n",
            "[Epoch:   23] cost = 0.091726467\n",
            "[Epoch:   24] cost = 0.0843576193\n",
            "[Epoch:   25] cost = 0.0774186701\n",
            "[Epoch:   26] cost = 0.0743131265\n",
            "[Epoch:   27] cost = 0.0683426559\n",
            "[Epoch:   28] cost = 0.0619802848\n",
            "[Epoch:   29] cost = 0.0595374145\n",
            "[Epoch:   30] cost = 0.0571124367\n",
            "[Epoch:   31] cost = 0.0546304882\n",
            "[Epoch:   32] cost = 0.0512551144\n",
            "[Epoch:   33] cost = 0.0499795377\n",
            "[Epoch:   34] cost = 0.0470018983\n",
            "[Epoch:   35] cost = 0.046261102\n",
            "[Epoch:   36] cost = 0.0443798527\n",
            "[Epoch:   37] cost = 0.0421694145\n",
            "[Epoch:   38] cost = 0.0411268882\n",
            "[Epoch:   39] cost = 0.0393220745\n",
            "[Epoch:   40] cost = 0.0377597734\n",
            "[Epoch:   41] cost = 0.0371448211\n",
            "[Epoch:   42] cost = 0.0346641205\n",
            "[Epoch:   43] cost = 0.0338935591\n",
            "[Epoch:   44] cost = 0.0334399007\n",
            "[Epoch:   45] cost = 0.0317422636\n",
            "[Epoch:   46] cost = 0.0311362837\n",
            "[Epoch:   47] cost = 0.0291896798\n",
            "[Epoch:   48] cost = 0.0297598597\n",
            "[Epoch:   49] cost = 0.0290177353\n",
            "[Epoch:   50] cost = 0.0278724153\n",
            "Learning Finished!\n"
          ],
          "name": "stdout"
        }
      ]
    },
    {
      "cell_type": "code",
      "metadata": {
        "id": "q1-Ips3fC7L4",
        "outputId": "90a13d07-b16a-42c8-ed90-c963aa562ffb",
        "colab": {
          "base_uri": "https://localhost:8080/",
          "height": 36
        }
      },
      "source": [
        "accuracy = 0\n",
        "total_batch = len(test_loader)\n",
        "\n",
        "with torch.no_grad():\n",
        "  model.eval()\n",
        "\n",
        "  for X, Y in test_loader:   # minibatch를 사용해서 평가\n",
        "    Y = Y.to(device)\n",
        "    X = X.to(device)\n",
        "\n",
        "\n",
        "    prediction = model(X)\n",
        "    correct_prediction = torch.argmax(prediction, 1) == Y\n",
        "    accuracy += correct_prediction.float().mean()\n",
        "\n",
        "print('Accuracy:', accuracy.item()/total_batch)\n",
        "\n"
      ],
      "execution_count": null,
      "outputs": [
        {
          "output_type": "stream",
          "text": [
            "Accuracy: 0.9885817307692307\n"
          ],
          "name": "stdout"
        }
      ]
    },
    {
      "cell_type": "markdown",
      "metadata": {
        "id": "vk7XYUlbFo7V"
      },
      "source": [
        "Accuracy: 0.8358998107910156"
      ]
    },
    {
      "cell_type": "code",
      "metadata": {
        "id": "r0AoWuK9UVFz"
      },
      "source": [
        ""
      ],
      "execution_count": null,
      "outputs": []
    }
  ]
}